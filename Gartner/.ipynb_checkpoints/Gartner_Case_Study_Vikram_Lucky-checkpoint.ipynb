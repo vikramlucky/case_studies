{
 "cells": [
  {
   "cell_type": "markdown",
   "metadata": {},
   "source": [
    "Context:\n",
    "Amazon is a very large online retailing platform and has become increasingly important to the sales and distribution plans of brands in various categories. However, since Amazon is a platform that allows third-party selling, brands are subject to risks of counterfeiting or gray market selling. The top questions brands ask are:\n",
    "\n",
    " - 1) To what extent is the brand susceptible to the risk of counterfeiting and gray market selling?\n",
    " - 2) What are the that factors increase the risk of becoming a target of gray market sellers?\n",
    " - 3) What are other key topics affecting consumer decisions?\n",
    " - 4) How do the above trends differ between different product categories?\n",
    "\n",
    " \n",
    "You can choose to tell the story from a single brand's point of view or cover specific categories or use a cross-category approach. Whatever helps to surface the most relevant insights.\n",
    "\n",
    " \n",
    "Deliverable:  \n",
    "\n",
    "·    An  presentation deck (PowerPoint or google slides) telling the story of the insights you found. You can use as many slides as you want but the allocated time for final presentation is 30 mins including Q&A time. \n",
    "\n",
    "and\n",
    "\n",
    "·    An ipython notebook file (.ipynb) or a script of your code. You can use whichever language you are most comfortable with but we should be able to run the script if required. Include comments and charts as required.  We want you to describe why you're doing what you're doing to reach your insights.  Feel free to describe analytical dead ends as well, but keep it tidy.\n",
    "\n",
    "Tips:\n",
    "\n",
    "·     Ratings is not the only \"dependent variable\". There is no explicit dependent variable to indicate counterfeiting or gray market selling but can be inferred in other ways.\n",
    "\n",
    "·     Text mining and modeling might lead you in interesting directions.\n",
    "\n",
    "·     Feel free to manipulate the data, supplement the data with more data, or feature extract/engineer as you see fit.  \n"
   ]
  },
  {
   "cell_type": "markdown",
   "metadata": {},
   "source": [
    "### Column Descriptions\n",
    "column_name&nbsp;&nbsp;&nbsp;&nbsp;          description<br>\n",
    "asin&nbsp;&nbsp;&nbsp;&nbsp;\t                item id assigned by Amazon to the specific SKU<br>\n",
    "review_post_id&nbsp;&nbsp;&nbsp;&nbsp;\t        post_id assigned to the specific product review<br>\n",
    "body&nbsp;&nbsp;&nbsp;&nbsp;\t                text of the consumer review of the product<br>\n",
    "helpful_count&nbsp;&nbsp;&nbsp;&nbsp;\t        number of helpful votes received by the review<br>\n",
    "num_images&nbsp;&nbsp;&nbsp;&nbsp;\t            number of images posted by the reviewer<br>\n",
    "rating&nbsp;&nbsp;&nbsp;&nbsp;\t                rating assigned by the reviewer to the product<br>\n",
    "date_posted&nbsp;&nbsp;&nbsp;&nbsp;\t            date on which review was posted<br>\n",
    "is_verified_purchase&nbsp;&nbsp;&nbsp;&nbsp;\tis it verified amazon prime customer posting the review?<br>\n",
    "is_vine_voice&nbsp;&nbsp;&nbsp;&nbsp;\t        is the customer a vine reviewer?<br>\n",
    "num_comments&nbsp;&nbsp;&nbsp;&nbsp;\t        number of comments on the review<br>\n",
    "has_video&nbsp;&nbsp;&nbsp;&nbsp;\t            does the review contain a video?<br>\n",
    "category&nbsp;&nbsp;&nbsp;&nbsp;\t            product category<br>\n",
    "list_price&nbsp;&nbsp;&nbsp;&nbsp;\t            list price of product<br>\n",
    "price_low&nbsp;&nbsp;&nbsp;&nbsp;\t            lowest observed price for the product on amazon during data capture period<br>\n",
    "price_high&nbsp;&nbsp;&nbsp;&nbsp;\t            highest observed price for the product on amazon during data capture period<br>\n",
    "is_add_on&nbsp;&nbsp;&nbsp;&nbsp;\t            is it an add-on item?<br>\n",
    "is_prime&nbsp;&nbsp;&nbsp;&nbsp;\t            is prime delivery available on the item?<br>\n",
    "is_prime_pantry&nbsp;&nbsp;&nbsp;&nbsp;\t        is this a prime pantry item?<br>\n",
    "is_prime_exclusive&nbsp;&nbsp;&nbsp;&nbsp;\t    is the item exclusive to amazon prime?<br>\n",
    "is_fresh&nbsp;&nbsp;&nbsp;&nbsp;\t            is it an amazon fresh item?<br>\n",
    "has_sns&nbsp;&nbsp;&nbsp;&nbsp;\t                is subscribe and save available on the item?<br>\n",
    "offer_fulfiller&nbsp;&nbsp;&nbsp;&nbsp;\t        shipped by?<br>\n",
    "offer_merchant&nbsp;&nbsp;&nbsp;&nbsp;\t        sold by?<br>\n",
    "lowest_price_new_conditio&nbsp;&nbsp;&nbsp;&nbsp;n\tlowest price at which item is available in new condition<br>\n",
    "brand&nbsp;&nbsp;&nbsp;&nbsp;\t                product brand<br>\n",
    "num_reviews&nbsp;&nbsp;&nbsp;&nbsp;\t            total number of reviews for the item<br>\n",
    "num_images_pdp&nbsp;&nbsp;&nbsp;&nbsp;\t        number of images on the product page<br>"
   ]
  },
  {
   "cell_type": "code",
   "execution_count": 1,
   "metadata": {},
   "outputs": [],
   "source": [
    "#importing necessary libraries\n",
    "import pandas as pd\n",
    "import numpy as np\n",
    "from IPython.core.display import Image, display\n",
    "pd.set_option('display.max_colwidth', -1)\n",
    "pd.set_option('display.max_columns', None)  \n",
    "from sklearn.feature_extraction.text import TfidfVectorizer\n",
    "from collections import Counter\n",
    "from vaderSentiment.vaderSentiment import SentimentIntensityAnalyzer\n",
    "import re\n",
    "import spacy\n",
    "import gensim\n",
    "import nltk\n",
    "from nltk import FreqDist\n",
    "from gensim import corpora\n",
    "import matplotlib.pyplot as plt\n",
    "import seaborn as sns\n"
   ]
  },
  {
   "cell_type": "code",
   "execution_count": 22,
   "metadata": {},
   "outputs": [],
   "source": [
    "#loading the dataset\n",
    "df = pd.read_pickle('/Users/lucky/Large_Project_Files/case_studies/Gartner/counter_dataset')\n"
   ]
  },
  {
   "cell_type": "code",
   "execution_count": 23,
   "metadata": {
    "scrolled": false
   },
   "outputs": [
    {
     "name": "stdout",
     "output_type": "stream",
     "text": [
      "There are  359069  rows and  27 columns in the dataset.\n",
      "Total # of columns w/ NaN values:  15\n"
     ]
    },
    {
     "data": {
      "text/html": [
       "<div>\n",
       "<style scoped>\n",
       "    .dataframe tbody tr th:only-of-type {\n",
       "        vertical-align: middle;\n",
       "    }\n",
       "\n",
       "    .dataframe tbody tr th {\n",
       "        vertical-align: top;\n",
       "    }\n",
       "\n",
       "    .dataframe thead th {\n",
       "        text-align: right;\n",
       "    }\n",
       "</style>\n",
       "<table border=\"1\" class=\"dataframe\">\n",
       "  <thead>\n",
       "    <tr style=\"text-align: right;\">\n",
       "      <th></th>\n",
       "      <th>asin</th>\n",
       "      <th>review_post_id</th>\n",
       "      <th>body</th>\n",
       "      <th>helpful_count</th>\n",
       "      <th>num_images</th>\n",
       "      <th>rating</th>\n",
       "      <th>date_posted</th>\n",
       "      <th>is_verified_purchase</th>\n",
       "      <th>is_vine_voice</th>\n",
       "      <th>num_comments</th>\n",
       "      <th>has_video</th>\n",
       "      <th>category</th>\n",
       "      <th>list_price</th>\n",
       "      <th>price_low</th>\n",
       "      <th>price_high</th>\n",
       "      <th>is_add_on</th>\n",
       "      <th>is_prime</th>\n",
       "      <th>is_prime_pantry</th>\n",
       "      <th>is_prime_exclusive</th>\n",
       "      <th>is_fresh</th>\n",
       "      <th>has_sns</th>\n",
       "      <th>offer_fulfiller</th>\n",
       "      <th>offer_merchant</th>\n",
       "      <th>lowest_price_new_condition</th>\n",
       "      <th>brand</th>\n",
       "      <th>num_reviews</th>\n",
       "      <th>num_images_pdp</th>\n",
       "    </tr>\n",
       "  </thead>\n",
       "  <tbody>\n",
       "    <tr>\n",
       "      <th>0</th>\n",
       "      <td>B000I68EL8</td>\n",
       "      <td>RZZQSQMVMPTW3</td>\n",
       "      <td>it feels so comfortable and I can wear it all day!</td>\n",
       "      <td>0</td>\n",
       "      <td>0</td>\n",
       "      <td>5</td>\n",
       "      <td>2017-07-27</td>\n",
       "      <td>True</td>\n",
       "      <td>False</td>\n",
       "      <td>0</td>\n",
       "      <td>False</td>\n",
       "      <td>Women's Shoes</td>\n",
       "      <td>NaN</td>\n",
       "      <td>99.95</td>\n",
       "      <td>99.95</td>\n",
       "      <td>False</td>\n",
       "      <td>False</td>\n",
       "      <td>False</td>\n",
       "      <td>False</td>\n",
       "      <td>False</td>\n",
       "      <td>False</td>\n",
       "      <td>Houser Shoes</td>\n",
       "      <td>Houser Shoes</td>\n",
       "      <td>NaN</td>\n",
       "      <td>Birkenstock</td>\n",
       "      <td>22</td>\n",
       "      <td>8</td>\n",
       "    </tr>\n",
       "    <tr>\n",
       "      <th>1</th>\n",
       "      <td>B000I68EL8</td>\n",
       "      <td>RZZI5BHNRQS5Z</td>\n",
       "      <td>Package came with the end missing from the box.  Since it’s a gift I will have to update for actual fit.</td>\n",
       "      <td>0</td>\n",
       "      <td>1</td>\n",
       "      <td>3</td>\n",
       "      <td>2017-12-24</td>\n",
       "      <td>True</td>\n",
       "      <td>False</td>\n",
       "      <td>0</td>\n",
       "      <td>False</td>\n",
       "      <td>Women's Shoes</td>\n",
       "      <td>NaN</td>\n",
       "      <td>99.95</td>\n",
       "      <td>99.95</td>\n",
       "      <td>False</td>\n",
       "      <td>False</td>\n",
       "      <td>False</td>\n",
       "      <td>False</td>\n",
       "      <td>False</td>\n",
       "      <td>False</td>\n",
       "      <td>Houser Shoes</td>\n",
       "      <td>Houser Shoes</td>\n",
       "      <td>NaN</td>\n",
       "      <td>Birkenstock</td>\n",
       "      <td>22</td>\n",
       "      <td>8</td>\n",
       "    </tr>\n",
       "  </tbody>\n",
       "</table>\n",
       "</div>"
      ],
      "text/plain": [
       "         asin review_post_id  \\\n",
       "0  B000I68EL8  RZZQSQMVMPTW3   \n",
       "1  B000I68EL8  RZZI5BHNRQS5Z   \n",
       "\n",
       "                                                                                                       body  \\\n",
       "0  it feels so comfortable and I can wear it all day!                                                         \n",
       "1  Package came with the end missing from the box.  Since it’s a gift I will have to update for actual fit.   \n",
       "\n",
       "   helpful_count  num_images  rating date_posted  is_verified_purchase  \\\n",
       "0  0              0           5       2017-07-27  True                   \n",
       "1  0              1           3       2017-12-24  True                   \n",
       "\n",
       "   is_vine_voice  num_comments  has_video       category  list_price  \\\n",
       "0  False          0             False      Women's Shoes NaN           \n",
       "1  False          0             False      Women's Shoes NaN           \n",
       "\n",
       "   price_low  price_high is_add_on is_prime is_prime_pantry  \\\n",
       "0  99.95      99.95       False     False    False            \n",
       "1  99.95      99.95       False     False    False            \n",
       "\n",
       "  is_prime_exclusive is_fresh has_sns offer_fulfiller offer_merchant  \\\n",
       "0  False              False    False   Houser Shoes    Houser Shoes    \n",
       "1  False              False    False   Houser Shoes    Houser Shoes    \n",
       "\n",
       "   lowest_price_new_condition        brand num_reviews num_images_pdp  \n",
       "0 NaN                          Birkenstock  22          8              \n",
       "1 NaN                          Birkenstock  22          8              "
      ]
     },
     "execution_count": 23,
     "metadata": {},
     "output_type": "execute_result"
    }
   ],
   "source": [
    "print(\"There are \", df.shape[0], \" rows and \", df.shape[1], \"columns in the dataset.\")\n",
    "print(\"Total # of columns w/ NaN values: \", df.isnull().any().sum())\n",
    "df.head(2)"
   ]
  },
  {
   "cell_type": "markdown",
   "metadata": {},
   "source": [
    "##### As this is unlabeled dataset, We will have to detect fake product sales, and label those product as not authentic. <br>\n"
   ]
  },
  {
   "cell_type": "code",
   "execution_count": 24,
   "metadata": {},
   "outputs": [],
   "source": [
    "df.body.isnull().sum() #There are 271 reviews missing. we will fill in these missing reviews with \"no review\"\n",
    "df.body.fillna(\"No review\", inplace = True) #If we drop this rows, we will also information from other columns which might help us detect fake products."
   ]
  },
  {
   "cell_type": "code",
   "execution_count": 25,
   "metadata": {},
   "outputs": [
    {
     "data": {
      "text/plain": [
       "0"
      ]
     },
     "execution_count": 25,
     "metadata": {},
     "output_type": "execute_result"
    }
   ],
   "source": [
    "df.brand.isnull().sum()\n",
    "df.brand.fillna('others', inplace = True)\n",
    "df.brand.isnull().sum()"
   ]
  },
  {
   "cell_type": "code",
   "execution_count": 26,
   "metadata": {},
   "outputs": [
    {
     "data": {
      "text/plain": [
       "asin                          0     \n",
       "review_post_id                0     \n",
       "body                          0     \n",
       "helpful_count                 0     \n",
       "num_images                    0     \n",
       "rating                        0     \n",
       "date_posted                   0     \n",
       "is_verified_purchase          0     \n",
       "is_vine_voice                 0     \n",
       "num_comments                  0     \n",
       "has_video                     0     \n",
       "category                      0     \n",
       "list_price                    346938\n",
       "price_low                     102686\n",
       "price_high                    102686\n",
       "is_add_on                     81357 \n",
       "is_prime                      81357 \n",
       "is_prime_pantry               81357 \n",
       "is_prime_exclusive            81357 \n",
       "is_fresh                      81357 \n",
       "has_sns                       81357 \n",
       "offer_fulfiller               309694\n",
       "offer_merchant                309694\n",
       "lowest_price_new_condition    323020\n",
       "brand                         0     \n",
       "num_reviews                   2041  \n",
       "num_images_pdp                0     \n",
       "dtype: int64"
      ]
     },
     "execution_count": 26,
     "metadata": {},
     "output_type": "execute_result"
    }
   ],
   "source": [
    "df.isnull().sum()"
   ]
  },
  {
   "cell_type": "markdown",
   "metadata": {},
   "source": [
    "Imputing missing values:"
   ]
  },
  {
   "cell_type": "code",
   "execution_count": 28,
   "metadata": {},
   "outputs": [],
   "source": [
    "df[['is_prime','is_add_on', 'is_prime_pantry', 'is_prime_exclusive', 'is_fresh', 'has_sns']] = df[['is_prime','is_add_on', 'is_prime_pantry', 'is_prime_exclusive', 'is_fresh', 'has_sns']].fillna('unknown', inplace = False)"
   ]
  },
  {
   "cell_type": "code",
   "execution_count": 42,
   "metadata": {},
   "outputs": [],
   "source": [
    "df[['offer_fulfiller', 'offer_merchant']] = df[['offer_fulfiller', 'offer_merchant']].fillna('others', inplace =False)"
   ]
  },
  {
   "cell_type": "code",
   "execution_count": 46,
   "metadata": {},
   "outputs": [
    {
     "data": {
      "text/plain": [
       "asin                          0     \n",
       "review_post_id                0     \n",
       "body                          0     \n",
       "helpful_count                 0     \n",
       "num_images                    0     \n",
       "rating                        0     \n",
       "date_posted                   0     \n",
       "is_verified_purchase          0     \n",
       "is_vine_voice                 0     \n",
       "num_comments                  0     \n",
       "has_video                     0     \n",
       "category                      0     \n",
       "list_price                    346938\n",
       "price_low                     102686\n",
       "price_high                    102686\n",
       "is_add_on                     0     \n",
       "is_prime                      0     \n",
       "is_prime_pantry               0     \n",
       "is_prime_exclusive            0     \n",
       "is_fresh                      0     \n",
       "has_sns                       0     \n",
       "offer_fulfiller               0     \n",
       "offer_merchant                0     \n",
       "lowest_price_new_condition    323020\n",
       "brand                         0     \n",
       "num_reviews                   2041  \n",
       "num_images_pdp                0     \n",
       "dtype: int64"
      ]
     },
     "execution_count": 46,
     "metadata": {},
     "output_type": "execute_result"
    }
   ],
   "source": [
    "df.isnull().sum()"
   ]
  },
  {
   "cell_type": "markdown",
   "metadata": {},
   "source": [
    "5 columns still have missing values, we will leave them for now."
   ]
  },
  {
   "cell_type": "markdown",
   "metadata": {},
   "source": [
    "We will start by cleaning the body column"
   ]
  },
  {
   "cell_type": "code",
   "execution_count": 306,
   "metadata": {},
   "outputs": [],
   "source": [
    "# function to plot most frequent terms\n",
    "def freq_words(x, terms = 30):\n",
    "    all_words = ' '.join([text for text in x])\n",
    "    all_words = all_words.split()\n",
    "    \n",
    "    fdist = FreqDist(all_words)\n",
    "    words_df = pd.DataFrame({'word':list(fdist.keys()), 'count':list(fdist.values())})\n",
    "\n",
    "  # selecting top 20 most frequent words\n",
    "    d = words_df.nlargest(columns=\"count\", n = terms) \n",
    "    plt.figure(figsize=(20,5))\n",
    "    ax = sns.barplot(data=d, x= \"word\", y = \"count\")\n",
    "    ax.set(ylabel = 'Count')\n",
    "    plt.show()"
   ]
  },
  {
   "cell_type": "code",
   "execution_count": 307,
   "metadata": {},
   "outputs": [
    {
     "data": {
      "image/png": "[encoded data removed]",
      "text/plain": [
       "<Figure size 1440x360 with 1 Axes>"
      ]
     },
     "metadata": {
      "needs_background": "light"
     },
     "output_type": "display_data"
    }
   ],
   "source": [
    "freq_words(df['body'])"
   ]
  },
  {
   "cell_type": "markdown",
   "metadata": {},
   "source": [
    "Most common words are ‘I’, 'the’, 'and', 'a', ‘to’, so on and so forth. These words are not so important for our task and they do not tell any story. We’ have to get rid of these kinds of words. Before that let’s remove the punctuations and numbers from our text data."
   ]
  },
  {
   "cell_type": "code",
   "execution_count": 308,
   "metadata": {},
   "outputs": [],
   "source": [
    "# remove unwanted characters, numbers and symbols\n",
    "df['body'] = df['body'].str.replace(\"[^a-zA-Z#]\", \" \")"
   ]
  },
  {
   "cell_type": "code",
   "execution_count": 309,
   "metadata": {},
   "outputs": [
    {
     "data": {
      "image/png": "[encoded data removed]",
      "text/plain": [
       "<Figure size 1440x360 with 1 Axes>"
      ]
     },
     "metadata": {
      "needs_background": "light"
     },
     "output_type": "display_data"
    }
   ],
   "source": [
    "#Let’s try to remove the stopwords and short words (<2 letters) from the reviews.\n",
    "from nltk.corpus import stopwords\n",
    "stop_words = stopwords.words('english')\n",
    "\n",
    "# function to remove stopwords\n",
    "def remove_stopwords(rev):\n",
    "    rev_new = \" \".join([i for i in rev if i not in stop_words])\n",
    "    return rev_new\n",
    "\n",
    "# remove short words (length < 3)\n",
    "df['body'] = df['body'].apply(lambda x: ' '.join([w for w in x.split() if len(w)>2]))\n",
    "\n",
    "# remove stopwords from the text\n",
    "body = [remove_stopwords(r.split()) for r in df['body']]\n",
    "\n",
    "# make entire text lowercase\n",
    "body = [r.lower() for r in body]\n",
    "\n",
    "freq_words(body, 35)"
   ]
  },
  {
   "cell_type": "code",
   "execution_count": 310,
   "metadata": {},
   "outputs": [],
   "source": [
    "nlp = spacy.load('en', disable=['parser', 'ner'])\n",
    "\n",
    "def lemmatization(texts, tags=['NOUN', 'ADJ']): # filter noun and adjective\n",
    "    output = []\n",
    "    for sent in texts:\n",
    "        doc = nlp(\" \".join(sent)) \n",
    "        output.append([token.lemma_ for token in doc if token.pos_ in tags])\n",
    "    return output\n",
    "\n"
   ]
  },
  {
   "cell_type": "code",
   "execution_count": 311,
   "metadata": {},
   "outputs": [
    {
     "name": "stdout",
     "output_type": "stream",
     "text": [
      "['feels', 'comfortable', 'wear', 'day']\n"
     ]
    }
   ],
   "source": [
    "tokenized_body = pd.Series(body).apply(lambda x: x.split())\n",
    "print(tokenized_body[0])"
   ]
  },
  {
   "cell_type": "code",
   "execution_count": 312,
   "metadata": {},
   "outputs": [
    {
     "name": "stdout",
     "output_type": "stream",
     "text": [
      "['comfortable', 'wear', 'day']\n"
     ]
    }
   ],
   "source": [
    "body_2 = lemmatization(tokenized_body)\n",
    "print(body_2[0]) # print lemmatized review"
   ]
  },
  {
   "cell_type": "code",
   "execution_count": 313,
   "metadata": {},
   "outputs": [],
   "source": [
    "df['comments'] = body_2"
   ]
  },
  {
   "cell_type": "code",
   "execution_count": 314,
   "metadata": {},
   "outputs": [
    {
     "data": {
      "image/png": "[encoded data removed]",
      "text/plain": [
       "<Figure size 1440x360 with 1 Axes>"
      ]
     },
     "metadata": {
      "needs_background": "light"
     },
     "output_type": "display_data"
    }
   ],
   "source": [
    "reviews_3 = []\n",
    "for i in range(len(body_2)):\n",
    "    reviews_3.append(' '.join(body_2[i]))\n",
    "\n",
    "df['reviews'] = reviews_3\n",
    "\n",
    "freq_words(df['reviews'], 35)"
   ]
  },
  {
   "cell_type": "code",
   "execution_count": 315,
   "metadata": {},
   "outputs": [
    {
     "data": {
      "text/html": [
       "<div>\n",
       "<style scoped>\n",
       "    .dataframe tbody tr th:only-of-type {\n",
       "        vertical-align: middle;\n",
       "    }\n",
       "\n",
       "    .dataframe tbody tr th {\n",
       "        vertical-align: top;\n",
       "    }\n",
       "\n",
       "    .dataframe thead th {\n",
       "        text-align: right;\n",
       "    }\n",
       "</style>\n",
       "<table border=\"1\" class=\"dataframe\">\n",
       "  <thead>\n",
       "    <tr style=\"text-align: right;\">\n",
       "      <th></th>\n",
       "      <th>asin</th>\n",
       "      <th>review_post_id</th>\n",
       "      <th>body</th>\n",
       "      <th>helpful_count</th>\n",
       "      <th>num_images</th>\n",
       "      <th>rating</th>\n",
       "      <th>date_posted</th>\n",
       "      <th>is_verified_purchase</th>\n",
       "      <th>is_vine_voice</th>\n",
       "      <th>num_comments</th>\n",
       "      <th>has_video</th>\n",
       "      <th>category</th>\n",
       "      <th>list_price</th>\n",
       "      <th>price_low</th>\n",
       "      <th>price_high</th>\n",
       "      <th>is_add_on</th>\n",
       "      <th>is_prime</th>\n",
       "      <th>is_prime_pantry</th>\n",
       "      <th>is_prime_exclusive</th>\n",
       "      <th>is_fresh</th>\n",
       "      <th>has_sns</th>\n",
       "      <th>offer_fulfiller</th>\n",
       "      <th>offer_merchant</th>\n",
       "      <th>lowest_price_new_condition</th>\n",
       "      <th>brand</th>\n",
       "      <th>num_reviews</th>\n",
       "      <th>num_images_pdp</th>\n",
       "      <th>comments</th>\n",
       "      <th>reviews</th>\n",
       "    </tr>\n",
       "  </thead>\n",
       "  <tbody>\n",
       "    <tr>\n",
       "      <th>0</th>\n",
       "      <td>B000I68EL8</td>\n",
       "      <td>RZZQSQMVMPTW3</td>\n",
       "      <td>feels comfortable and can wear all day</td>\n",
       "      <td>0</td>\n",
       "      <td>0</td>\n",
       "      <td>5</td>\n",
       "      <td>2017-07-27</td>\n",
       "      <td>True</td>\n",
       "      <td>False</td>\n",
       "      <td>0</td>\n",
       "      <td>False</td>\n",
       "      <td>Women's Shoes</td>\n",
       "      <td>NaN</td>\n",
       "      <td>99.95</td>\n",
       "      <td>99.95</td>\n",
       "      <td>False</td>\n",
       "      <td>False</td>\n",
       "      <td>False</td>\n",
       "      <td>False</td>\n",
       "      <td>False</td>\n",
       "      <td>False</td>\n",
       "      <td>Houser Shoes</td>\n",
       "      <td>Houser Shoes</td>\n",
       "      <td>NaN</td>\n",
       "      <td>Birkenstock</td>\n",
       "      <td>22</td>\n",
       "      <td>8</td>\n",
       "      <td>[comfortable, wear, day]</td>\n",
       "      <td>comfortable wear day</td>\n",
       "    </tr>\n",
       "    <tr>\n",
       "      <th>1</th>\n",
       "      <td>B000I68EL8</td>\n",
       "      <td>RZZI5BHNRQS5Z</td>\n",
       "      <td>Package came with the end missing from the box Since gift will have update for actual fit</td>\n",
       "      <td>0</td>\n",
       "      <td>1</td>\n",
       "      <td>3</td>\n",
       "      <td>2017-12-24</td>\n",
       "      <td>True</td>\n",
       "      <td>False</td>\n",
       "      <td>0</td>\n",
       "      <td>False</td>\n",
       "      <td>Women's Shoes</td>\n",
       "      <td>NaN</td>\n",
       "      <td>99.95</td>\n",
       "      <td>99.95</td>\n",
       "      <td>False</td>\n",
       "      <td>False</td>\n",
       "      <td>False</td>\n",
       "      <td>False</td>\n",
       "      <td>False</td>\n",
       "      <td>False</td>\n",
       "      <td>Houser Shoes</td>\n",
       "      <td>Houser Shoes</td>\n",
       "      <td>NaN</td>\n",
       "      <td>Birkenstock</td>\n",
       "      <td>22</td>\n",
       "      <td>8</td>\n",
       "      <td>[package, end, missing, box, gift, update, actual, fit]</td>\n",
       "      <td>package end missing box gift update actual fit</td>\n",
       "    </tr>\n",
       "  </tbody>\n",
       "</table>\n",
       "</div>"
      ],
      "text/plain": [
       "         asin review_post_id  \\\n",
       "0  B000I68EL8  RZZQSQMVMPTW3   \n",
       "1  B000I68EL8  RZZI5BHNRQS5Z   \n",
       "\n",
       "                                                                                        body  \\\n",
       "0  feels comfortable and can wear all day                                                      \n",
       "1  Package came with the end missing from the box Since gift will have update for actual fit   \n",
       "\n",
       "   helpful_count  num_images  rating date_posted  is_verified_purchase  \\\n",
       "0  0              0           5       2017-07-27  True                   \n",
       "1  0              1           3       2017-12-24  True                   \n",
       "\n",
       "   is_vine_voice  num_comments  has_video       category  list_price  \\\n",
       "0  False          0             False      Women's Shoes NaN           \n",
       "1  False          0             False      Women's Shoes NaN           \n",
       "\n",
       "   price_low  price_high is_add_on is_prime is_prime_pantry  \\\n",
       "0  99.95      99.95       False     False    False            \n",
       "1  99.95      99.95       False     False    False            \n",
       "\n",
       "  is_prime_exclusive is_fresh has_sns offer_fulfiller offer_merchant  \\\n",
       "0  False              False    False   Houser Shoes    Houser Shoes    \n",
       "1  False              False    False   Houser Shoes    Houser Shoes    \n",
       "\n",
       "   lowest_price_new_condition        brand num_reviews num_images_pdp  \\\n",
       "0 NaN                          Birkenstock  22          8               \n",
       "1 NaN                          Birkenstock  22          8               \n",
       "\n",
       "                                                  comments  \\\n",
       "0  [comfortable, wear, day]                                  \n",
       "1  [package, end, missing, box, gift, update, actual, fit]   \n",
       "\n",
       "                                          reviews  \n",
       "0  comfortable wear day                            \n",
       "1  package end missing box gift update actual fit  "
      ]
     },
     "execution_count": 315,
     "metadata": {},
     "output_type": "execute_result"
    }
   ],
   "source": [
    "df.head(2) #At this point we have 2 new columns comments and reviews"
   ]
  },
  {
   "cell_type": "code",
   "execution_count": 316,
   "metadata": {},
   "outputs": [
    {
     "name": "stdout",
     "output_type": "stream",
     "text": [
      "0\n",
      "There are  1448 reviews that have word 'fake' in them.\n"
     ]
    }
   ],
   "source": [
    "print(df.body.isnull().sum()) # Great no missing values in body column.\n",
    "print(\"There are \",df[df.body.str.contains('fake')].shape[0], \"reviews that have word 'fake' in them.\")"
   ]
  },
  {
   "cell_type": "code",
   "execution_count": 317,
   "metadata": {},
   "outputs": [
    {
     "name": "stdout",
     "output_type": "stream",
     "text": [
      "0\n",
      "There are  1592 reviews that have word 'fake' in them.\n"
     ]
    }
   ],
   "source": [
    "print(df.body.isnull().sum()) # Great no missing values in body column.\n",
    "print(\"There are \",df[df.reviews.str.contains('fake')].shape[0], \"reviews that have word 'fake' in them.\")"
   ]
  },
  {
   "cell_type": "code",
   "execution_count": 318,
   "metadata": {},
   "outputs": [
    {
     "data": {
      "text/html": [
       "<div>\n",
       "<style scoped>\n",
       "    .dataframe tbody tr th:only-of-type {\n",
       "        vertical-align: middle;\n",
       "    }\n",
       "\n",
       "    .dataframe tbody tr th {\n",
       "        vertical-align: top;\n",
       "    }\n",
       "\n",
       "    .dataframe thead th {\n",
       "        text-align: right;\n",
       "    }\n",
       "</style>\n",
       "<table border=\"1\" class=\"dataframe\">\n",
       "  <thead>\n",
       "    <tr style=\"text-align: right;\">\n",
       "      <th></th>\n",
       "      <th>asin</th>\n",
       "      <th>review_post_id</th>\n",
       "      <th>body</th>\n",
       "      <th>helpful_count</th>\n",
       "      <th>num_images</th>\n",
       "      <th>rating</th>\n",
       "      <th>date_posted</th>\n",
       "      <th>is_verified_purchase</th>\n",
       "      <th>is_vine_voice</th>\n",
       "      <th>num_comments</th>\n",
       "      <th>has_video</th>\n",
       "      <th>category</th>\n",
       "      <th>list_price</th>\n",
       "      <th>price_low</th>\n",
       "      <th>price_high</th>\n",
       "      <th>is_add_on</th>\n",
       "      <th>is_prime</th>\n",
       "      <th>is_prime_pantry</th>\n",
       "      <th>is_prime_exclusive</th>\n",
       "      <th>is_fresh</th>\n",
       "      <th>has_sns</th>\n",
       "      <th>offer_fulfiller</th>\n",
       "      <th>offer_merchant</th>\n",
       "      <th>lowest_price_new_condition</th>\n",
       "      <th>brand</th>\n",
       "      <th>num_reviews</th>\n",
       "      <th>num_images_pdp</th>\n",
       "      <th>comments</th>\n",
       "      <th>reviews</th>\n",
       "    </tr>\n",
       "  </thead>\n",
       "  <tbody>\n",
       "    <tr>\n",
       "      <th>0</th>\n",
       "      <td>B000I68EL8</td>\n",
       "      <td>RZZQSQMVMPTW3</td>\n",
       "      <td>feels comfortable and can wear all day</td>\n",
       "      <td>0</td>\n",
       "      <td>0</td>\n",
       "      <td>5</td>\n",
       "      <td>2017-07-27</td>\n",
       "      <td>True</td>\n",
       "      <td>False</td>\n",
       "      <td>0</td>\n",
       "      <td>False</td>\n",
       "      <td>Women's Shoes</td>\n",
       "      <td>NaN</td>\n",
       "      <td>99.95</td>\n",
       "      <td>99.95</td>\n",
       "      <td>False</td>\n",
       "      <td>False</td>\n",
       "      <td>False</td>\n",
       "      <td>False</td>\n",
       "      <td>False</td>\n",
       "      <td>False</td>\n",
       "      <td>Houser Shoes</td>\n",
       "      <td>Houser Shoes</td>\n",
       "      <td>NaN</td>\n",
       "      <td>Birkenstock</td>\n",
       "      <td>22</td>\n",
       "      <td>8</td>\n",
       "      <td>[comfortable, wear, day]</td>\n",
       "      <td>comfortable wear day</td>\n",
       "    </tr>\n",
       "    <tr>\n",
       "      <th>1</th>\n",
       "      <td>B000I68EL8</td>\n",
       "      <td>RZZI5BHNRQS5Z</td>\n",
       "      <td>Package came with the end missing from the box Since gift will have update for actual fit</td>\n",
       "      <td>0</td>\n",
       "      <td>1</td>\n",
       "      <td>3</td>\n",
       "      <td>2017-12-24</td>\n",
       "      <td>True</td>\n",
       "      <td>False</td>\n",
       "      <td>0</td>\n",
       "      <td>False</td>\n",
       "      <td>Women's Shoes</td>\n",
       "      <td>NaN</td>\n",
       "      <td>99.95</td>\n",
       "      <td>99.95</td>\n",
       "      <td>False</td>\n",
       "      <td>False</td>\n",
       "      <td>False</td>\n",
       "      <td>False</td>\n",
       "      <td>False</td>\n",
       "      <td>False</td>\n",
       "      <td>Houser Shoes</td>\n",
       "      <td>Houser Shoes</td>\n",
       "      <td>NaN</td>\n",
       "      <td>Birkenstock</td>\n",
       "      <td>22</td>\n",
       "      <td>8</td>\n",
       "      <td>[package, end, missing, box, gift, update, actual, fit]</td>\n",
       "      <td>package end missing box gift update actual fit</td>\n",
       "    </tr>\n",
       "  </tbody>\n",
       "</table>\n",
       "</div>"
      ],
      "text/plain": [
       "         asin review_post_id  \\\n",
       "0  B000I68EL8  RZZQSQMVMPTW3   \n",
       "1  B000I68EL8  RZZI5BHNRQS5Z   \n",
       "\n",
       "                                                                                        body  \\\n",
       "0  feels comfortable and can wear all day                                                      \n",
       "1  Package came with the end missing from the box Since gift will have update for actual fit   \n",
       "\n",
       "   helpful_count  num_images  rating date_posted  is_verified_purchase  \\\n",
       "0  0              0           5       2017-07-27  True                   \n",
       "1  0              1           3       2017-12-24  True                   \n",
       "\n",
       "   is_vine_voice  num_comments  has_video       category  list_price  \\\n",
       "0  False          0             False      Women's Shoes NaN           \n",
       "1  False          0             False      Women's Shoes NaN           \n",
       "\n",
       "   price_low  price_high is_add_on is_prime is_prime_pantry  \\\n",
       "0  99.95      99.95       False     False    False            \n",
       "1  99.95      99.95       False     False    False            \n",
       "\n",
       "  is_prime_exclusive is_fresh has_sns offer_fulfiller offer_merchant  \\\n",
       "0  False              False    False   Houser Shoes    Houser Shoes    \n",
       "1  False              False    False   Houser Shoes    Houser Shoes    \n",
       "\n",
       "   lowest_price_new_condition        brand num_reviews num_images_pdp  \\\n",
       "0 NaN                          Birkenstock  22          8               \n",
       "1 NaN                          Birkenstock  22          8               \n",
       "\n",
       "                                                  comments  \\\n",
       "0  [comfortable, wear, day]                                  \n",
       "1  [package, end, missing, box, gift, update, actual, fit]   \n",
       "\n",
       "                                          reviews  \n",
       "0  comfortable wear day                            \n",
       "1  package end missing box gift update actual fit  "
      ]
     },
     "execution_count": 318,
     "metadata": {},
     "output_type": "execute_result"
    }
   ],
   "source": [
    "df.head(2)"
   ]
  },
  {
   "cell_type": "markdown",
   "metadata": {},
   "source": [
    "#### After cleaning body column, we are able to detect more rows which contains word \"fake\" in them and we have also introduced two new columns ['comments' and 'reviews'] which are cleaner version of body . <br>\n",
    "Having \"fake\" word in the review not necessarily mean that the review is negative or it's a fake product.<br> For example: <br>\n",
    "Review review_post_id[RAS5ZP7RWM0TX] (shownbelow) contains word \"fake\", but it's actually a positive review with 5 star rating. So, we can not label these kind of reviews as negative reviews. Let's try and see if we can identify these kind of reviews using sentiment analysis."
   ]
  },
  {
   "cell_type": "code",
   "execution_count": 319,
   "metadata": {},
   "outputs": [
    {
     "data": {
      "text/html": [
       "<div>\n",
       "<style scoped>\n",
       "    .dataframe tbody tr th:only-of-type {\n",
       "        vertical-align: middle;\n",
       "    }\n",
       "\n",
       "    .dataframe tbody tr th {\n",
       "        vertical-align: top;\n",
       "    }\n",
       "\n",
       "    .dataframe thead th {\n",
       "        text-align: right;\n",
       "    }\n",
       "</style>\n",
       "<table border=\"1\" class=\"dataframe\">\n",
       "  <thead>\n",
       "    <tr style=\"text-align: right;\">\n",
       "      <th></th>\n",
       "      <th>asin</th>\n",
       "      <th>review_post_id</th>\n",
       "      <th>body</th>\n",
       "      <th>helpful_count</th>\n",
       "      <th>num_images</th>\n",
       "      <th>rating</th>\n",
       "      <th>date_posted</th>\n",
       "      <th>is_verified_purchase</th>\n",
       "      <th>is_vine_voice</th>\n",
       "      <th>num_comments</th>\n",
       "      <th>has_video</th>\n",
       "      <th>category</th>\n",
       "      <th>list_price</th>\n",
       "      <th>price_low</th>\n",
       "      <th>price_high</th>\n",
       "      <th>is_add_on</th>\n",
       "      <th>is_prime</th>\n",
       "      <th>is_prime_pantry</th>\n",
       "      <th>is_prime_exclusive</th>\n",
       "      <th>is_fresh</th>\n",
       "      <th>has_sns</th>\n",
       "      <th>offer_fulfiller</th>\n",
       "      <th>offer_merchant</th>\n",
       "      <th>lowest_price_new_condition</th>\n",
       "      <th>brand</th>\n",
       "      <th>num_reviews</th>\n",
       "      <th>num_images_pdp</th>\n",
       "      <th>comments</th>\n",
       "      <th>reviews</th>\n",
       "    </tr>\n",
       "  </thead>\n",
       "  <tbody>\n",
       "    <tr>\n",
       "      <th>122</th>\n",
       "      <td>B000I68EL8</td>\n",
       "      <td>RAS5ZP7RWM0TX</td>\n",
       "      <td>bit expensive Thought was fake first but they are authentic Good for long casual and versatile wear Can wear with literally anything</td>\n",
       "      <td>0</td>\n",
       "      <td>0</td>\n",
       "      <td>4</td>\n",
       "      <td>2017-08-28</td>\n",
       "      <td>True</td>\n",
       "      <td>False</td>\n",
       "      <td>0</td>\n",
       "      <td>False</td>\n",
       "      <td>Women's Shoes</td>\n",
       "      <td>NaN</td>\n",
       "      <td>99.95</td>\n",
       "      <td>99.95</td>\n",
       "      <td>False</td>\n",
       "      <td>False</td>\n",
       "      <td>False</td>\n",
       "      <td>False</td>\n",
       "      <td>False</td>\n",
       "      <td>False</td>\n",
       "      <td>Houser Shoes</td>\n",
       "      <td>Houser Shoes</td>\n",
       "      <td>NaN</td>\n",
       "      <td>Birkenstock</td>\n",
       "      <td>22</td>\n",
       "      <td>8</td>\n",
       "      <td>[expensive, thought, fake, first, authentic, good, long, casual, versatile, wear, anything]</td>\n",
       "      <td>expensive thought fake first authentic good long casual versatile wear anything</td>\n",
       "    </tr>\n",
       "  </tbody>\n",
       "</table>\n",
       "</div>"
      ],
      "text/plain": [
       "           asin review_post_id  \\\n",
       "122  B000I68EL8  RAS5ZP7RWM0TX   \n",
       "\n",
       "                                                                                                                                     body  \\\n",
       "122  bit expensive Thought was fake first but they are authentic Good for long casual and versatile wear Can wear with literally anything   \n",
       "\n",
       "     helpful_count  num_images  rating date_posted  is_verified_purchase  \\\n",
       "122  0              0           4       2017-08-28  True                   \n",
       "\n",
       "     is_vine_voice  num_comments  has_video       category  list_price  \\\n",
       "122  False          0             False      Women's Shoes NaN           \n",
       "\n",
       "     price_low  price_high is_add_on is_prime is_prime_pantry  \\\n",
       "122  99.95      99.95       False     False    False            \n",
       "\n",
       "    is_prime_exclusive is_fresh has_sns offer_fulfiller offer_merchant  \\\n",
       "122  False              False    False   Houser Shoes    Houser Shoes    \n",
       "\n",
       "     lowest_price_new_condition        brand num_reviews num_images_pdp  \\\n",
       "122 NaN                          Birkenstock  22          8               \n",
       "\n",
       "                                                                                        comments  \\\n",
       "122  [expensive, thought, fake, first, authentic, good, long, casual, versatile, wear, anything]   \n",
       "\n",
       "                                                                             reviews  \n",
       "122  expensive thought fake first authentic good long casual versatile wear anything  "
      ]
     },
     "execution_count": 319,
     "metadata": {},
     "output_type": "execute_result"
    }
   ],
   "source": [
    "df[df['review_post_id'] == 'RAS5ZP7RWM0TX']"
   ]
  },
  {
   "cell_type": "markdown",
   "metadata": {},
   "source": [
    "### Using VADER to handle sentiment analysis: <br>\n",
    "-Sentiment analysis is simply the process of working out (statistically) whether a piece of text is positive, negative or neutral. <br>\n",
    "VADER is easy-to-use and powerful package"
   ]
  },
  {
   "cell_type": "code",
   "execution_count": 59,
   "metadata": {},
   "outputs": [],
   "source": [
    "analyzer = SentimentIntensityAnalyzer()\n",
    "df['vader_neg'] = 0\n",
    "df['vader_pos'] = 0\n",
    "df['vader_neu'] = 0\n",
    "df['vader_compound'] = 0\n",
    "for i, q in enumerate(df.reviews.values):\n",
    "    vs = analyzer.polarity_scores(q)\n",
    "    df.iloc[i, -4] = vs['neg']\n",
    "    df.iloc[i, -3] = vs['pos']\n",
    "    df.iloc[i, -2] = vs['neu']\n",
    "    df.iloc[i, -1] = vs['compound']"
   ]
  },
  {
   "cell_type": "code",
   "execution_count": 72,
   "metadata": {},
   "outputs": [
    {
     "data": {
      "text/html": [
       "<div>\n",
       "<style scoped>\n",
       "    .dataframe tbody tr th:only-of-type {\n",
       "        vertical-align: middle;\n",
       "    }\n",
       "\n",
       "    .dataframe tbody tr th {\n",
       "        vertical-align: top;\n",
       "    }\n",
       "\n",
       "    .dataframe thead th {\n",
       "        text-align: right;\n",
       "    }\n",
       "</style>\n",
       "<table border=\"1\" class=\"dataframe\">\n",
       "  <thead>\n",
       "    <tr style=\"text-align: right;\">\n",
       "      <th></th>\n",
       "      <th>asin</th>\n",
       "      <th>review_post_id</th>\n",
       "      <th>body</th>\n",
       "      <th>helpful_count</th>\n",
       "      <th>num_images</th>\n",
       "      <th>rating</th>\n",
       "      <th>date_posted</th>\n",
       "      <th>is_verified_purchase</th>\n",
       "      <th>is_vine_voice</th>\n",
       "      <th>num_comments</th>\n",
       "      <th>has_video</th>\n",
       "      <th>category</th>\n",
       "      <th>list_price</th>\n",
       "      <th>price_low</th>\n",
       "      <th>price_high</th>\n",
       "      <th>is_add_on</th>\n",
       "      <th>is_prime</th>\n",
       "      <th>is_prime_pantry</th>\n",
       "      <th>is_prime_exclusive</th>\n",
       "      <th>is_fresh</th>\n",
       "      <th>has_sns</th>\n",
       "      <th>offer_fulfiller</th>\n",
       "      <th>offer_merchant</th>\n",
       "      <th>lowest_price_new_condition</th>\n",
       "      <th>brand</th>\n",
       "      <th>num_reviews</th>\n",
       "      <th>num_images_pdp</th>\n",
       "      <th>comments</th>\n",
       "      <th>reviews</th>\n",
       "      <th>vader_neg</th>\n",
       "      <th>vader_pos</th>\n",
       "      <th>vader_neu</th>\n",
       "      <th>vader_compound</th>\n",
       "    </tr>\n",
       "  </thead>\n",
       "  <tbody>\n",
       "    <tr>\n",
       "      <th>0</th>\n",
       "      <td>B000I68EL8</td>\n",
       "      <td>RZZQSQMVMPTW3</td>\n",
       "      <td>feels comfortable and can wear all day</td>\n",
       "      <td>0</td>\n",
       "      <td>0</td>\n",
       "      <td>5</td>\n",
       "      <td>2017-07-27</td>\n",
       "      <td>True</td>\n",
       "      <td>False</td>\n",
       "      <td>0</td>\n",
       "      <td>False</td>\n",
       "      <td>Women's Shoes</td>\n",
       "      <td>NaN</td>\n",
       "      <td>99.95</td>\n",
       "      <td>99.95</td>\n",
       "      <td>False</td>\n",
       "      <td>False</td>\n",
       "      <td>False</td>\n",
       "      <td>False</td>\n",
       "      <td>False</td>\n",
       "      <td>False</td>\n",
       "      <td>Houser Shoes</td>\n",
       "      <td>Houser Shoes</td>\n",
       "      <td>NaN</td>\n",
       "      <td>Birkenstock</td>\n",
       "      <td>22</td>\n",
       "      <td>8</td>\n",
       "      <td>[comfortable, wear, day]</td>\n",
       "      <td>comfortable wear day</td>\n",
       "      <td>0.000</td>\n",
       "      <td>0.623</td>\n",
       "      <td>0.377</td>\n",
       "      <td>0.5106</td>\n",
       "    </tr>\n",
       "    <tr>\n",
       "      <th>1</th>\n",
       "      <td>B000I68EL8</td>\n",
       "      <td>RZZI5BHNRQS5Z</td>\n",
       "      <td>Package came with the end missing from the box Since gift will have update for actual fit</td>\n",
       "      <td>0</td>\n",
       "      <td>1</td>\n",
       "      <td>3</td>\n",
       "      <td>2017-12-24</td>\n",
       "      <td>True</td>\n",
       "      <td>False</td>\n",
       "      <td>0</td>\n",
       "      <td>False</td>\n",
       "      <td>Women's Shoes</td>\n",
       "      <td>NaN</td>\n",
       "      <td>99.95</td>\n",
       "      <td>99.95</td>\n",
       "      <td>False</td>\n",
       "      <td>False</td>\n",
       "      <td>False</td>\n",
       "      <td>False</td>\n",
       "      <td>False</td>\n",
       "      <td>False</td>\n",
       "      <td>Houser Shoes</td>\n",
       "      <td>Houser Shoes</td>\n",
       "      <td>NaN</td>\n",
       "      <td>Birkenstock</td>\n",
       "      <td>22</td>\n",
       "      <td>8</td>\n",
       "      <td>[package, end, missing, box, gift, update, actual, fit]</td>\n",
       "      <td>package end missing box gift update actual fit</td>\n",
       "      <td>0.175</td>\n",
       "      <td>0.429</td>\n",
       "      <td>0.397</td>\n",
       "      <td>0.4939</td>\n",
       "    </tr>\n",
       "  </tbody>\n",
       "</table>\n",
       "</div>"
      ],
      "text/plain": [
       "         asin review_post_id  \\\n",
       "0  B000I68EL8  RZZQSQMVMPTW3   \n",
       "1  B000I68EL8  RZZI5BHNRQS5Z   \n",
       "\n",
       "                                                                                        body  \\\n",
       "0                                                     feels comfortable and can wear all day   \n",
       "1  Package came with the end missing from the box Since gift will have update for actual fit   \n",
       "\n",
       "   helpful_count  num_images  rating date_posted  is_verified_purchase  \\\n",
       "0              0           0       5  2017-07-27                  True   \n",
       "1              0           1       3  2017-12-24                  True   \n",
       "\n",
       "   is_vine_voice  num_comments  has_video       category  list_price  \\\n",
       "0          False             0      False  Women's Shoes         NaN   \n",
       "1          False             0      False  Women's Shoes         NaN   \n",
       "\n",
       "   price_low  price_high is_add_on is_prime is_prime_pantry  \\\n",
       "0      99.95       99.95     False    False           False   \n",
       "1      99.95       99.95     False    False           False   \n",
       "\n",
       "  is_prime_exclusive is_fresh has_sns offer_fulfiller offer_merchant  \\\n",
       "0              False    False   False    Houser Shoes   Houser Shoes   \n",
       "1              False    False   False    Houser Shoes   Houser Shoes   \n",
       "\n",
       "   lowest_price_new_condition        brand num_reviews num_images_pdp  \\\n",
       "0                         NaN  Birkenstock          22              8   \n",
       "1                         NaN  Birkenstock          22              8   \n",
       "\n",
       "                                                  comments  \\\n",
       "0                                 [comfortable, wear, day]   \n",
       "1  [package, end, missing, box, gift, update, actual, fit]   \n",
       "\n",
       "                                          reviews  vader_neg  vader_pos  \\\n",
       "0                            comfortable wear day      0.000      0.623   \n",
       "1  package end missing box gift update actual fit      0.175      0.429   \n",
       "\n",
       "   vader_neu  vader_compound  \n",
       "0      0.377          0.5106  \n",
       "1      0.397          0.4939  "
      ]
     },
     "execution_count": 72,
     "metadata": {},
     "output_type": "execute_result"
    }
   ],
   "source": [
    "df.head(2)"
   ]
  },
  {
   "cell_type": "markdown",
   "metadata": {},
   "source": [
    "At this point we have introduced 4 new columns vader_neg, pos, neu and compound. compound is weighted number between -1 to 1. <0 means more negative and >0 means overall positive."
   ]
  },
  {
   "cell_type": "code",
   "execution_count": 91,
   "metadata": {},
   "outputs": [
    {
     "data": {
      "text/html": [
       "<div>\n",
       "<style scoped>\n",
       "    .dataframe tbody tr th:only-of-type {\n",
       "        vertical-align: middle;\n",
       "    }\n",
       "\n",
       "    .dataframe tbody tr th {\n",
       "        vertical-align: top;\n",
       "    }\n",
       "\n",
       "    .dataframe thead th {\n",
       "        text-align: right;\n",
       "    }\n",
       "</style>\n",
       "<table border=\"1\" class=\"dataframe\">\n",
       "  <thead>\n",
       "    <tr style=\"text-align: right;\">\n",
       "      <th></th>\n",
       "      <th>asin</th>\n",
       "      <th>review_post_id</th>\n",
       "      <th>body</th>\n",
       "      <th>helpful_count</th>\n",
       "      <th>num_images</th>\n",
       "      <th>rating</th>\n",
       "      <th>date_posted</th>\n",
       "      <th>is_verified_purchase</th>\n",
       "      <th>is_vine_voice</th>\n",
       "      <th>num_comments</th>\n",
       "      <th>has_video</th>\n",
       "      <th>category</th>\n",
       "      <th>list_price</th>\n",
       "      <th>price_low</th>\n",
       "      <th>price_high</th>\n",
       "      <th>is_add_on</th>\n",
       "      <th>is_prime</th>\n",
       "      <th>is_prime_pantry</th>\n",
       "      <th>is_prime_exclusive</th>\n",
       "      <th>is_fresh</th>\n",
       "      <th>has_sns</th>\n",
       "      <th>offer_fulfiller</th>\n",
       "      <th>offer_merchant</th>\n",
       "      <th>lowest_price_new_condition</th>\n",
       "      <th>brand</th>\n",
       "      <th>num_reviews</th>\n",
       "      <th>num_images_pdp</th>\n",
       "      <th>comments</th>\n",
       "      <th>reviews</th>\n",
       "      <th>vader_neg</th>\n",
       "      <th>vader_pos</th>\n",
       "      <th>vader_neu</th>\n",
       "      <th>vader_compound</th>\n",
       "    </tr>\n",
       "  </thead>\n",
       "  <tbody>\n",
       "    <tr>\n",
       "      <th>122</th>\n",
       "      <td>B000I68EL8</td>\n",
       "      <td>RAS5ZP7RWM0TX</td>\n",
       "      <td>bit expensive Thought was fake first but they are authentic Good for long casual and versatile wear Can wear with literally anything</td>\n",
       "      <td>0</td>\n",
       "      <td>0</td>\n",
       "      <td>4</td>\n",
       "      <td>2017-08-28</td>\n",
       "      <td>True</td>\n",
       "      <td>False</td>\n",
       "      <td>0</td>\n",
       "      <td>False</td>\n",
       "      <td>Women's Shoes</td>\n",
       "      <td>NaN</td>\n",
       "      <td>99.95</td>\n",
       "      <td>99.95</td>\n",
       "      <td>False</td>\n",
       "      <td>False</td>\n",
       "      <td>False</td>\n",
       "      <td>False</td>\n",
       "      <td>False</td>\n",
       "      <td>False</td>\n",
       "      <td>Houser Shoes</td>\n",
       "      <td>Houser Shoes</td>\n",
       "      <td>NaN</td>\n",
       "      <td>Birkenstock</td>\n",
       "      <td>22</td>\n",
       "      <td>8</td>\n",
       "      <td>[expensive, thought, fake, first, authentic, good, long, casual, versatile, wear, anything]</td>\n",
       "      <td>expensive thought fake first authentic good long casual versatile wear anything</td>\n",
       "      <td>0.196</td>\n",
       "      <td>0.297</td>\n",
       "      <td>0.506</td>\n",
       "      <td>0.1531</td>\n",
       "    </tr>\n",
       "  </tbody>\n",
       "</table>\n",
       "</div>"
      ],
      "text/plain": [
       "           asin review_post_id  \\\n",
       "122  B000I68EL8  RAS5ZP7RWM0TX   \n",
       "\n",
       "                                                                                                                                     body  \\\n",
       "122  bit expensive Thought was fake first but they are authentic Good for long casual and versatile wear Can wear with literally anything   \n",
       "\n",
       "     helpful_count  num_images  rating date_posted  is_verified_purchase  \\\n",
       "122  0              0           4       2017-08-28  True                   \n",
       "\n",
       "     is_vine_voice  num_comments  has_video       category  list_price  \\\n",
       "122  False          0             False      Women's Shoes NaN           \n",
       "\n",
       "     price_low  price_high is_add_on is_prime is_prime_pantry  \\\n",
       "122  99.95      99.95       False     False    False            \n",
       "\n",
       "    is_prime_exclusive is_fresh has_sns offer_fulfiller offer_merchant  \\\n",
       "122  False              False    False   Houser Shoes    Houser Shoes    \n",
       "\n",
       "     lowest_price_new_condition        brand num_reviews num_images_pdp  \\\n",
       "122 NaN                          Birkenstock  22          8               \n",
       "\n",
       "                                                                                        comments  \\\n",
       "122  [expensive, thought, fake, first, authentic, good, long, casual, versatile, wear, anything]   \n",
       "\n",
       "                                                                             reviews  \\\n",
       "122  expensive thought fake first authentic good long casual versatile wear anything   \n",
       "\n",
       "     vader_neg  vader_pos  vader_neu  vader_compound  \n",
       "122  0.196      0.297      0.506      0.1531          "
      ]
     },
     "execution_count": 91,
     "metadata": {},
     "output_type": "execute_result"
    }
   ],
   "source": [
    "#checking vader_compound of the positive review which contains word \"fake\"\n",
    "df[df['review_post_id'] == 'RAS5ZP7RWM0TX']"
   ]
  },
  {
   "cell_type": "markdown",
   "metadata": {},
   "source": [
    "In the above review we have word \"fake\", but it actually an positive review. Vader gave this review and average weight of 0.15"
   ]
  },
  {
   "cell_type": "markdown",
   "metadata": {},
   "source": [
    "### For the purpose of this case study i am going to set following threshold for labeling product as fake products: <br>\n",
    "- Words such as ['fake', 'conterfeit', 'replica'] in reviews columns and rating below 3 star.\n",
    "- If specific product appears more than 5 times (which basically means 5 users complained about product being fake and rated it beloe 3 stars) in fake dataset(dataset we are going to create below based on above threshold) we will label that specific product as fake in the whole dataset."
   ]
  },
  {
   "cell_type": "code",
   "execution_count": 270,
   "metadata": {},
   "outputs": [],
   "source": [
    "fake = df[((df.reviews.str.contains('fake')) | (df.reviews.str.contains('counterfeit')) | (df.reviews.str.contains('replicas'))) & ((df['rating'] < 3))]\n"
   ]
  },
  {
   "cell_type": "code",
   "execution_count": 271,
   "metadata": {
    "scrolled": true
   },
   "outputs": [
    {
     "data": {
      "text/plain": [
       "(1328, 33)"
      ]
     },
     "execution_count": 271,
     "metadata": {},
     "output_type": "execute_result"
    }
   ],
   "source": [
    "fake.shape"
   ]
  },
  {
   "cell_type": "code",
   "execution_count": 272,
   "metadata": {},
   "outputs": [
    {
     "name": "stdout",
     "output_type": "stream",
     "text": [
      "Average Vader compound for fake dataset:  -0.3938019578313232\n"
     ]
    }
   ],
   "source": [
    "print(\"Average Vader compound for fake dataset: \", fake.vader_compound.mean() )"
   ]
  },
  {
   "cell_type": "code",
   "execution_count": 278,
   "metadata": {},
   "outputs": [],
   "source": [
    "fake_ = Counter(fake.asin) #counts number of time each asin appears in fake dataset\n",
    "fake_products = []\n",
    "for k,v in fake_.items():\n",
    "    if v >=5:\n",
    "        fake_products.append(k)"
   ]
  },
  {
   "cell_type": "code",
   "execution_count": 279,
   "metadata": {},
   "outputs": [
    {
     "data": {
      "text/plain": [
       "54"
      ]
     },
     "execution_count": 279,
     "metadata": {},
     "output_type": "execute_result"
    }
   ],
   "source": [
    "len(fake_products) #We have 54 products that according to our threshold are fake"
   ]
  },
  {
   "cell_type": "markdown",
   "metadata": {},
   "source": [
    "Let's label these products fake in df dataset."
   ]
  },
  {
   "cell_type": "code",
   "execution_count": 283,
   "metadata": {},
   "outputs": [],
   "source": [
    "df['fake_detection'] = [1 if x in fake_products else 0 for x in df['asin']]"
   ]
  },
  {
   "cell_type": "code",
   "execution_count": 285,
   "metadata": {},
   "outputs": [
    {
     "data": {
      "text/plain": [
       "0    0.902726\n",
       "1    0.097274\n",
       "Name: fake_detection, dtype: float64"
      ]
     },
     "execution_count": 285,
     "metadata": {},
     "output_type": "execute_result"
    }
   ],
   "source": [
    "df.fake_detection.value_counts()/len(df)"
   ]
  },
  {
   "cell_type": "markdown",
   "metadata": {},
   "source": [
    "Nexy Steps: <br>\n",
    "- Create copy of df()\n",
    "- Drop [body, comments and reviews] columns as we vader columns will represent the text data present in these columns\n",
    "- Impute missing values in the rest of the columns\n",
    "- use random forest to predict 1s (bad product) and using feautre importance show what factors increase the risk of becoming a target of gray market sellers."
   ]
  },
  {
   "cell_type": "code",
   "execution_count": null,
   "metadata": {},
   "outputs": [],
   "source": []
  },
  {
   "cell_type": "code",
   "execution_count": null,
   "metadata": {},
   "outputs": [],
   "source": []
  },
  {
   "cell_type": "code",
   "execution_count": null,
   "metadata": {},
   "outputs": [],
   "source": []
  },
  {
   "cell_type": "code",
   "execution_count": null,
   "metadata": {},
   "outputs": [],
   "source": []
  },
  {
   "cell_type": "code",
   "execution_count": null,
   "metadata": {},
   "outputs": [],
   "source": []
  },
  {
   "cell_type": "code",
   "execution_count": null,
   "metadata": {},
   "outputs": [],
   "source": []
  },
  {
   "cell_type": "code",
   "execution_count": null,
   "metadata": {},
   "outputs": [],
   "source": []
  },
  {
   "cell_type": "code",
   "execution_count": null,
   "metadata": {},
   "outputs": [],
   "source": []
  },
  {
   "cell_type": "code",
   "execution_count": null,
   "metadata": {},
   "outputs": [],
   "source": []
  }
 ],
 "metadata": {
  "kernelspec": {
   "display_name": "Python 3",
   "language": "python",
   "name": "python3"
  },
  "language_info": {
   "codemirror_mode": {
    "name": "ipython",
    "version": 3
   },
   "file_extension": ".py",
   "mimetype": "text/x-python",
   "name": "python",
   "nbconvert_exporter": "python",
   "pygments_lexer": "ipython3",
   "version": "3.7.1"
  }
 },
 "nbformat": 4,
 "nbformat_minor": 2
}
