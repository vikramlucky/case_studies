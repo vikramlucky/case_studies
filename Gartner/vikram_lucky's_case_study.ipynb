{
 "cells": [
  {
   "cell_type": "code",
   "execution_count": 48,
   "metadata": {},
   "outputs": [
    {
     "data": {
      "text/html": [
       "<div>\n",
       "<style scoped>\n",
       "    .dataframe tbody tr th:only-of-type {\n",
       "        vertical-align: middle;\n",
       "    }\n",
       "\n",
       "    .dataframe tbody tr th {\n",
       "        vertical-align: top;\n",
       "    }\n",
       "\n",
       "    .dataframe thead th {\n",
       "        text-align: right;\n",
       "    }\n",
       "</style>\n",
       "<table border=\"1\" class=\"dataframe\">\n",
       "  <thead>\n",
       "    <tr style=\"text-align: right;\">\n",
       "      <th></th>\n",
       "      <th>asin</th>\n",
       "      <th>review_post_id</th>\n",
       "      <th>body</th>\n",
       "      <th>helpful_count</th>\n",
       "      <th>num_images</th>\n",
       "      <th>rating</th>\n",
       "      <th>date_posted</th>\n",
       "      <th>is_verified_purchase</th>\n",
       "      <th>is_vine_voice</th>\n",
       "      <th>num_comments</th>\n",
       "      <th>...</th>\n",
       "      <th>is_prime_pantry</th>\n",
       "      <th>is_prime_exclusive</th>\n",
       "      <th>is_fresh</th>\n",
       "      <th>has_sns</th>\n",
       "      <th>offer_fulfiller</th>\n",
       "      <th>offer_merchant</th>\n",
       "      <th>lowest_price_new_condition</th>\n",
       "      <th>brand</th>\n",
       "      <th>num_reviews</th>\n",
       "      <th>num_images_pdp</th>\n",
       "    </tr>\n",
       "  </thead>\n",
       "  <tbody>\n",
       "    <tr>\n",
       "      <th>0</th>\n",
       "      <td>B000I68EL8</td>\n",
       "      <td>RZZQSQMVMPTW3</td>\n",
       "      <td>it feels so comfortable and I can wear it all ...</td>\n",
       "      <td>0</td>\n",
       "      <td>0</td>\n",
       "      <td>5</td>\n",
       "      <td>2017-07-27</td>\n",
       "      <td>True</td>\n",
       "      <td>False</td>\n",
       "      <td>0</td>\n",
       "      <td>...</td>\n",
       "      <td>False</td>\n",
       "      <td>False</td>\n",
       "      <td>False</td>\n",
       "      <td>False</td>\n",
       "      <td>Houser Shoes</td>\n",
       "      <td>Houser Shoes</td>\n",
       "      <td>NaN</td>\n",
       "      <td>Birkenstock</td>\n",
       "      <td>22</td>\n",
       "      <td>8</td>\n",
       "    </tr>\n",
       "    <tr>\n",
       "      <th>1</th>\n",
       "      <td>B000I68EL8</td>\n",
       "      <td>RZZI5BHNRQS5Z</td>\n",
       "      <td>Package came with the end missing from the box...</td>\n",
       "      <td>0</td>\n",
       "      <td>1</td>\n",
       "      <td>3</td>\n",
       "      <td>2017-12-24</td>\n",
       "      <td>True</td>\n",
       "      <td>False</td>\n",
       "      <td>0</td>\n",
       "      <td>...</td>\n",
       "      <td>False</td>\n",
       "      <td>False</td>\n",
       "      <td>False</td>\n",
       "      <td>False</td>\n",
       "      <td>Houser Shoes</td>\n",
       "      <td>Houser Shoes</td>\n",
       "      <td>NaN</td>\n",
       "      <td>Birkenstock</td>\n",
       "      <td>22</td>\n",
       "      <td>8</td>\n",
       "    </tr>\n",
       "    <tr>\n",
       "      <th>2</th>\n",
       "      <td>B000I68EL8</td>\n",
       "      <td>RZN7OFKFGQO0N</td>\n",
       "      <td>Birkenstock is an amazing shoe!!!!  I wish I h...</td>\n",
       "      <td>0</td>\n",
       "      <td>0</td>\n",
       "      <td>5</td>\n",
       "      <td>2017-05-31</td>\n",
       "      <td>True</td>\n",
       "      <td>False</td>\n",
       "      <td>0</td>\n",
       "      <td>...</td>\n",
       "      <td>False</td>\n",
       "      <td>False</td>\n",
       "      <td>False</td>\n",
       "      <td>False</td>\n",
       "      <td>Houser Shoes</td>\n",
       "      <td>Houser Shoes</td>\n",
       "      <td>NaN</td>\n",
       "      <td>Birkenstock</td>\n",
       "      <td>22</td>\n",
       "      <td>8</td>\n",
       "    </tr>\n",
       "  </tbody>\n",
       "</table>\n",
       "<p>3 rows × 27 columns</p>\n",
       "</div>"
      ],
      "text/plain": [
       "         asin review_post_id  \\\n",
       "0  B000I68EL8  RZZQSQMVMPTW3   \n",
       "1  B000I68EL8  RZZI5BHNRQS5Z   \n",
       "2  B000I68EL8  RZN7OFKFGQO0N   \n",
       "\n",
       "                                                body  helpful_count  \\\n",
       "0  it feels so comfortable and I can wear it all ...              0   \n",
       "1  Package came with the end missing from the box...              0   \n",
       "2  Birkenstock is an amazing shoe!!!!  I wish I h...              0   \n",
       "\n",
       "   num_images  rating date_posted  is_verified_purchase  is_vine_voice  \\\n",
       "0           0       5  2017-07-27                  True          False   \n",
       "1           1       3  2017-12-24                  True          False   \n",
       "2           0       5  2017-05-31                  True          False   \n",
       "\n",
       "   num_comments      ...        is_prime_pantry is_prime_exclusive  is_fresh  \\\n",
       "0             0      ...                  False              False     False   \n",
       "1             0      ...                  False              False     False   \n",
       "2             0      ...                  False              False     False   \n",
       "\n",
       "   has_sns  offer_fulfiller offer_merchant lowest_price_new_condition  \\\n",
       "0    False     Houser Shoes   Houser Shoes                        NaN   \n",
       "1    False     Houser Shoes   Houser Shoes                        NaN   \n",
       "2    False     Houser Shoes   Houser Shoes                        NaN   \n",
       "\n",
       "         brand num_reviews num_images_pdp  \n",
       "0  Birkenstock          22              8  \n",
       "1  Birkenstock          22              8  \n",
       "2  Birkenstock          22              8  \n",
       "\n",
       "[3 rows x 27 columns]"
      ]
     },
     "execution_count": 48,
     "metadata": {},
     "output_type": "execute_result"
    }
   ],
   "source": [
    "import pickle\n",
    "import pandas as pd\n",
    "import numpy as np\n",
    "import matplotlib.pyplot as plt\n",
    "from collections import Counter\n",
    "from sklearn.preprocessing import LabelBinarizer, LabelEncoder\n",
    "\n",
    "df = pd.read_pickle(\"counter_dataset\")\n",
    "df.head(3)"
   ]
  },
  {
   "cell_type": "code",
   "execution_count": 49,
   "metadata": {
    "scrolled": false
   },
   "outputs": [
    {
     "name": "stdout",
     "output_type": "stream",
     "text": [
      "There are  359069  rows and  27 columns in the dataset.\n"
     ]
    },
    {
     "data": {
      "text/plain": [
       "body                             271\n",
       "list_price                    346938\n",
       "price_low                     102686\n",
       "price_high                    102686\n",
       "is_add_on                      81357\n",
       "is_prime                       81357\n",
       "is_prime_pantry                81357\n",
       "is_prime_exclusive             81357\n",
       "is_fresh                       81357\n",
       "has_sns                        81357\n",
       "offer_fulfiller               309694\n",
       "offer_merchant                309694\n",
       "lowest_price_new_condition    323020\n",
       "brand                           1342\n",
       "num_reviews                     2041\n",
       "dtype: int64"
      ]
     },
     "execution_count": 49,
     "metadata": {},
     "output_type": "execute_result"
    }
   ],
   "source": [
    "print(\"There are \", df.shape[0], \" rows and \", df.shape[1], \"columns in the dataset.\")\n",
    "#Missing values in the dataset\n",
    "df.isnull().sum()[df.isnull().sum()>0]"
   ]
  },
  {
   "cell_type": "markdown",
   "metadata": {},
   "source": [
    "There are way too many missing values in some of the columns. It is not advised to impute missing values when there are too many of them missing, As it will change the underlying distribution. __So, for the purpose of this analysis i will try to work only with the information present, and I will try to keep it simple.__"
   ]
  },
  {
   "cell_type": "markdown",
   "metadata": {},
   "source": [
    "### For the purpose of this analysis i will consider grey market products == Counterfeit products"
   ]
  },
  {
   "cell_type": "markdown",
   "metadata": {},
   "source": [
    "###  Q1. To what extent is the brand susceptible to counterfeiting/gray market selling?\n",
    "To Answer this i will select the product who are available at >100% less than price high/low. I will consider those product as Grey Market Products. "
   ]
  },
  {
   "cell_type": "code",
   "execution_count": 53,
   "metadata": {},
   "outputs": [
    {
     "data": {
      "text/plain": [
       "True"
      ]
     },
     "execution_count": 53,
     "metadata": {},
     "output_type": "execute_result"
    }
   ],
   "source": [
    "(df.price_high.equals(df.price_low))"
   ]
  },
  {
   "cell_type": "markdown",
   "metadata": {},
   "source": [
    "Above two columns are identical we will drop one of them.\n"
   ]
  },
  {
   "cell_type": "code",
   "execution_count": 55,
   "metadata": {},
   "outputs": [],
   "source": [
    "df.drop('price_low', axis = 1, inplace =True)"
   ]
  },
  {
   "cell_type": "code",
   "execution_count": 56,
   "metadata": {
    "scrolled": true
   },
   "outputs": [
    {
     "data": {
      "text/plain": [
       "['list_price', 'price_high', 'lowest_price_new_condition']"
      ]
     },
     "execution_count": 56,
     "metadata": {},
     "output_type": "execute_result"
    }
   ],
   "source": [
    "# prices that we can consider\n",
    "prices = [x for x in df.columns if \"price\" in x]\n",
    "prices"
   ]
  },
  {
   "cell_type": "code",
   "execution_count": 57,
   "metadata": {},
   "outputs": [
    {
     "name": "stdout",
     "output_type": "stream",
     "text": [
      "Number of unique brands: 237\n"
     ]
    }
   ],
   "source": [
    "print(\"Number of unique brands:\", len(df[\"brand\"].unique()))"
   ]
  },
  {
   "cell_type": "code",
   "execution_count": 58,
   "metadata": {},
   "outputs": [
    {
     "data": {
      "text/html": [
       "<div>\n",
       "<style scoped>\n",
       "    .dataframe tbody tr th:only-of-type {\n",
       "        vertical-align: middle;\n",
       "    }\n",
       "\n",
       "    .dataframe tbody tr th {\n",
       "        vertical-align: top;\n",
       "    }\n",
       "\n",
       "    .dataframe thead th {\n",
       "        text-align: right;\n",
       "    }\n",
       "</style>\n",
       "<table border=\"1\" class=\"dataframe\">\n",
       "  <thead>\n",
       "    <tr style=\"text-align: right;\">\n",
       "      <th></th>\n",
       "      <th>list_price</th>\n",
       "      <th>price_high</th>\n",
       "      <th>lowest_price_new_condition</th>\n",
       "    </tr>\n",
       "    <tr>\n",
       "      <th>asin</th>\n",
       "      <th></th>\n",
       "      <th></th>\n",
       "      <th></th>\n",
       "    </tr>\n",
       "  </thead>\n",
       "  <tbody>\n",
       "    <tr>\n",
       "      <th>B000052YOX</th>\n",
       "      <td>NaN</td>\n",
       "      <td>NaN</td>\n",
       "      <td>NaN</td>\n",
       "    </tr>\n",
       "    <tr>\n",
       "      <th>B000052YQ2</th>\n",
       "      <td>NaN</td>\n",
       "      <td>NaN</td>\n",
       "      <td>NaN</td>\n",
       "    </tr>\n",
       "    <tr>\n",
       "      <th>B000052ZB5</th>\n",
       "      <td>NaN</td>\n",
       "      <td>NaN</td>\n",
       "      <td>NaN</td>\n",
       "    </tr>\n",
       "    <tr>\n",
       "      <th>B00005303E</th>\n",
       "      <td>NaN</td>\n",
       "      <td>NaN</td>\n",
       "      <td>NaN</td>\n",
       "    </tr>\n",
       "    <tr>\n",
       "      <th>B0000535RC</th>\n",
       "      <td>NaN</td>\n",
       "      <td>7.69</td>\n",
       "      <td>7.69</td>\n",
       "    </tr>\n",
       "  </tbody>\n",
       "</table>\n",
       "</div>"
      ],
      "text/plain": [
       "            list_price  price_high  lowest_price_new_condition\n",
       "asin                                                          \n",
       "B000052YOX         NaN         NaN                         NaN\n",
       "B000052YQ2         NaN         NaN                         NaN\n",
       "B000052ZB5         NaN         NaN                         NaN\n",
       "B00005303E         NaN         NaN                         NaN\n",
       "B0000535RC         NaN        7.69                        7.69"
      ]
     },
     "execution_count": 58,
     "metadata": {},
     "output_type": "execute_result"
    }
   ],
   "source": [
    "grouped_prices = df.groupby(\"asin\").mean()[prices]\n",
    "grouped_prices.head()"
   ]
  },
  {
   "cell_type": "code",
   "execution_count": 59,
   "metadata": {},
   "outputs": [],
   "source": [
    "grouped_prices = grouped_prices.fillna(-1) #filling missing values with -1"
   ]
  },
  {
   "cell_type": "code",
   "execution_count": 60,
   "metadata": {},
   "outputs": [
    {
     "data": {
      "text/html": [
       "<div>\n",
       "<style scoped>\n",
       "    .dataframe tbody tr th:only-of-type {\n",
       "        vertical-align: middle;\n",
       "    }\n",
       "\n",
       "    .dataframe tbody tr th {\n",
       "        vertical-align: top;\n",
       "    }\n",
       "\n",
       "    .dataframe thead th {\n",
       "        text-align: right;\n",
       "    }\n",
       "</style>\n",
       "<table border=\"1\" class=\"dataframe\">\n",
       "  <thead>\n",
       "    <tr style=\"text-align: right;\">\n",
       "      <th></th>\n",
       "      <th>list_price</th>\n",
       "      <th>price_high</th>\n",
       "      <th>lowest_price_new_condition</th>\n",
       "      <th>difference</th>\n",
       "    </tr>\n",
       "    <tr>\n",
       "      <th>asin</th>\n",
       "      <th></th>\n",
       "      <th></th>\n",
       "      <th></th>\n",
       "      <th></th>\n",
       "    </tr>\n",
       "  </thead>\n",
       "  <tbody>\n",
       "    <tr>\n",
       "      <th>B000052YOX</th>\n",
       "      <td>-1.0</td>\n",
       "      <td>-1.00</td>\n",
       "      <td>-1.00</td>\n",
       "      <td>1.0</td>\n",
       "    </tr>\n",
       "    <tr>\n",
       "      <th>B000052YQ2</th>\n",
       "      <td>-1.0</td>\n",
       "      <td>-1.00</td>\n",
       "      <td>-1.00</td>\n",
       "      <td>1.0</td>\n",
       "    </tr>\n",
       "    <tr>\n",
       "      <th>B000052ZB5</th>\n",
       "      <td>-1.0</td>\n",
       "      <td>-1.00</td>\n",
       "      <td>-1.00</td>\n",
       "      <td>1.0</td>\n",
       "    </tr>\n",
       "    <tr>\n",
       "      <th>B00005303E</th>\n",
       "      <td>-1.0</td>\n",
       "      <td>-1.00</td>\n",
       "      <td>-1.00</td>\n",
       "      <td>1.0</td>\n",
       "    </tr>\n",
       "    <tr>\n",
       "      <th>B0000535RC</th>\n",
       "      <td>-1.0</td>\n",
       "      <td>7.69</td>\n",
       "      <td>7.69</td>\n",
       "      <td>1.0</td>\n",
       "    </tr>\n",
       "  </tbody>\n",
       "</table>\n",
       "</div>"
      ],
      "text/plain": [
       "            list_price  price_high  lowest_price_new_condition  difference\n",
       "asin                                                                      \n",
       "B000052YOX        -1.0       -1.00                       -1.00         1.0\n",
       "B000052YQ2        -1.0       -1.00                       -1.00         1.0\n",
       "B000052ZB5        -1.0       -1.00                       -1.00         1.0\n",
       "B00005303E        -1.0       -1.00                       -1.00         1.0\n",
       "B0000535RC        -1.0        7.69                        7.69         1.0"
      ]
     },
     "execution_count": 60,
     "metadata": {},
     "output_type": "execute_result"
    }
   ],
   "source": [
    "grouped_prices[\"difference\"] = grouped_prices[\"price_high\"] / grouped_prices[\"lowest_price_new_condition\"]\n",
    "grouped_prices.head()"
   ]
  },
  {
   "cell_type": "code",
   "execution_count": 61,
   "metadata": {},
   "outputs": [
    {
     "data": {
      "text/html": [
       "<div>\n",
       "<style scoped>\n",
       "    .dataframe tbody tr th:only-of-type {\n",
       "        vertical-align: middle;\n",
       "    }\n",
       "\n",
       "    .dataframe tbody tr th {\n",
       "        vertical-align: top;\n",
       "    }\n",
       "\n",
       "    .dataframe thead th {\n",
       "        text-align: right;\n",
       "    }\n",
       "</style>\n",
       "<table border=\"1\" class=\"dataframe\">\n",
       "  <thead>\n",
       "    <tr style=\"text-align: right;\">\n",
       "      <th></th>\n",
       "      <th>list_price</th>\n",
       "      <th>price_high</th>\n",
       "      <th>lowest_price_new_condition</th>\n",
       "      <th>difference</th>\n",
       "    </tr>\n",
       "    <tr>\n",
       "      <th>asin</th>\n",
       "      <th></th>\n",
       "      <th></th>\n",
       "      <th></th>\n",
       "      <th></th>\n",
       "    </tr>\n",
       "  </thead>\n",
       "  <tbody>\n",
       "    <tr>\n",
       "      <th>B079V3J3Y9</th>\n",
       "      <td>-1.0</td>\n",
       "      <td>3496.99</td>\n",
       "      <td>2.48</td>\n",
       "      <td>1410.076613</td>\n",
       "    </tr>\n",
       "    <tr>\n",
       "      <th>B007W1101I</th>\n",
       "      <td>-1.0</td>\n",
       "      <td>2095.76</td>\n",
       "      <td>1.54</td>\n",
       "      <td>1360.883117</td>\n",
       "    </tr>\n",
       "    <tr>\n",
       "      <th>B001TRF3G4</th>\n",
       "      <td>-1.0</td>\n",
       "      <td>4859.00</td>\n",
       "      <td>4.01</td>\n",
       "      <td>1211.720698</td>\n",
       "    </tr>\n",
       "    <tr>\n",
       "      <th>B01MTTSNVZ</th>\n",
       "      <td>-1.0</td>\n",
       "      <td>2799.88</td>\n",
       "      <td>2.45</td>\n",
       "      <td>1142.808163</td>\n",
       "    </tr>\n",
       "    <tr>\n",
       "      <th>B0072C8SQ2</th>\n",
       "      <td>-1.0</td>\n",
       "      <td>3229.74</td>\n",
       "      <td>3.05</td>\n",
       "      <td>1058.931148</td>\n",
       "    </tr>\n",
       "  </tbody>\n",
       "</table>\n",
       "</div>"
      ],
      "text/plain": [
       "            list_price  price_high  lowest_price_new_condition   difference\n",
       "asin                                                                       \n",
       "B079V3J3Y9        -1.0     3496.99                        2.48  1410.076613\n",
       "B007W1101I        -1.0     2095.76                        1.54  1360.883117\n",
       "B001TRF3G4        -1.0     4859.00                        4.01  1211.720698\n",
       "B01MTTSNVZ        -1.0     2799.88                        2.45  1142.808163\n",
       "B0072C8SQ2        -1.0     3229.74                        3.05  1058.931148"
      ]
     },
     "execution_count": 61,
     "metadata": {},
     "output_type": "execute_result"
    }
   ],
   "source": [
    "peaked_prices = grouped_prices.sort_values(by=\"difference\", ascending=False)\n",
    "peaked_prices.head()"
   ]
  },
  {
   "cell_type": "markdown",
   "metadata": {},
   "source": [
    "Above dataframe shows product with higher difference between lowest price available and price_high (price observed)"
   ]
  },
  {
   "cell_type": "code",
   "execution_count": 62,
   "metadata": {},
   "outputs": [],
   "source": [
    "# NOT SELECTION THE ONE WITH -1 VALUES, WE IMPUTED THAT VALUE ABOVE\n",
    "peaked_prices = peaked_prices[(peaked_prices[\"difference\"] != -1) \n",
    "              & (peaked_prices[\"price_high\"] != -1)\n",
    "              & (peaked_prices[\"lowest_price_new_condition\"] != -1)]"
   ]
  },
  {
   "cell_type": "code",
   "execution_count": 63,
   "metadata": {},
   "outputs": [],
   "source": [
    "# If the lowest price avialable is 100% less than list price\n",
    "fake_sins = peaked_prices[peaked_prices[\"difference\"] > 2].index.tolist()"
   ]
  },
  {
   "cell_type": "code",
   "execution_count": 64,
   "metadata": {},
   "outputs": [],
   "source": [
    "unique_products = len(df.dropna(subset=([\"price_high\", \"lowest_price_new_condition\"]))[\"asin\"].unique())"
   ]
  },
  {
   "cell_type": "code",
   "execution_count": 20,
   "metadata": {},
   "outputs": [
    {
     "name": "stdout",
     "output_type": "stream",
     "text": [
      "Total Products: 611\n",
      "Total Fakes: 81\n",
      "Percent: 13.26%\n"
     ]
    }
   ],
   "source": [
    "print(\"Total Products: {}\".format(unique_products))\n",
    "print(\"Total Fakes: {}\".format(len(fake_sins)))\n",
    "print(\"Percent: {0:.2f}%\".format( (len(fake_sins)/unique_products) * 100))"
   ]
  },
  {
   "cell_type": "markdown",
   "metadata": {},
   "source": [
    "13.26% average risk among all brands of being victim of grey market sellers."
   ]
  },
  {
   "cell_type": "markdown",
   "metadata": {},
   "source": [
    "## Q2 Factors that increase the risk of becoming target for gray marketing\n",
    "Here i will subset two dataframes, 1 Authentic products 2nd one will contain Counterfeit product. Than will compare both of them"
   ]
  },
  {
   "cell_type": "code",
   "execution_count": 65,
   "metadata": {},
   "outputs": [],
   "source": [
    "#Extracting Brand names and categories\n",
    "\n",
    "brands = []\n",
    "categories = []\n",
    "for x in fake_sins:\n",
    "    brands.append(df[df[\"asin\"] == x][\"brand\"].iloc[0])\n",
    "    categories.append(df[df[\"asin\"] == x][\"category\"].iloc[0])"
   ]
  },
  {
   "cell_type": "code",
   "execution_count": 66,
   "metadata": {},
   "outputs": [],
   "source": [
    "#Counting Brands and Categories\n",
    "\n",
    "counter = list(Counter(brands).items())\n",
    "counter.sort(key=lambda x: x[1], reverse=True)\n",
    "\n",
    "counter_cat = list(Counter(categories).items())\n",
    "counter_cat.sort(key=lambda x: x[1], reverse=True)"
   ]
  },
  {
   "cell_type": "code",
   "execution_count": 25,
   "metadata": {},
   "outputs": [
    {
     "data": {
      "image/png": "[encoded data removed]",
      "text/plain": [
       "<Figure size 1152x432 with 1 Axes>"
      ]
     },
     "metadata": {
      "needs_background": "light"
     },
     "output_type": "display_data"
    }
   ],
   "source": [
    "plt.figure(figsize=(16, 6))\n",
    "plt.bar([x[0] for x in counter], [x[1] for x in counter], label=\"Counterfeit Products\")\n",
    "plt.title(\"Brands with the most number of Counterfeit Products in Market\")\n",
    "plt.legend()\n",
    "plt.xlabel(\"Brand\")\n",
    "plt.ylabel(\"Number of fake products\")\n",
    "plt.xticks(rotation=45);"
   ]
  },
  {
   "cell_type": "markdown",
   "metadata": {},
   "source": [
    "Above Bar graph shows Brands with the most number of Counterfeit products. High end brands on the top of the list"
   ]
  },
  {
   "cell_type": "code",
   "execution_count": 26,
   "metadata": {},
   "outputs": [
    {
     "data": {
      "image/png": "[encoded data removed]",
      "text/plain": [
       "<Figure size 1152x432 with 1 Axes>"
      ]
     },
     "metadata": {
      "needs_background": "light"
     },
     "output_type": "display_data"
    }
   ],
   "source": [
    "plt.figure(figsize=(16, 6))\n",
    "plt.bar([x[0] for x in counter_cat], [x[1] for x in counter_cat], label=\"Counterfeit Products\")\n",
    "plt.title(\"Gray Market Products\")\n",
    "plt.legend()\n",
    "plt.xlabel(\"Categories\")\n",
    "plt.ylabel(\"Number of Counterfeit products by category\")\n",
    "plt.xticks(rotation=45);"
   ]
  },
  {
   "cell_type": "markdown",
   "metadata": {},
   "source": [
    "Above Bar graph shows categories with most number of counterfeit items. Watches, followed by Headphone and makeup stuff"
   ]
  },
  {
   "cell_type": "markdown",
   "metadata": {},
   "source": [
    "### Comparison of counterfeit products vs authentic products"
   ]
  },
  {
   "cell_type": "code",
   "execution_count": 36,
   "metadata": {},
   "outputs": [
    {
     "data": {
      "text/html": [
       "<div>\n",
       "<style scoped>\n",
       "    .dataframe tbody tr th:only-of-type {\n",
       "        vertical-align: middle;\n",
       "    }\n",
       "\n",
       "    .dataframe tbody tr th {\n",
       "        vertical-align: top;\n",
       "    }\n",
       "\n",
       "    .dataframe thead th {\n",
       "        text-align: right;\n",
       "    }\n",
       "</style>\n",
       "<table border=\"1\" class=\"dataframe\">\n",
       "  <thead>\n",
       "    <tr style=\"text-align: right;\">\n",
       "      <th></th>\n",
       "      <th>helpful_count</th>\n",
       "      <th>num_images</th>\n",
       "      <th>rating</th>\n",
       "      <th>num_comments</th>\n",
       "      <th>list_price</th>\n",
       "      <th>price_low</th>\n",
       "      <th>price_high</th>\n",
       "      <th>lowest_price_new_condition</th>\n",
       "    </tr>\n",
       "  </thead>\n",
       "  <tbody>\n",
       "    <tr>\n",
       "      <th>count</th>\n",
       "      <td>1137.000000</td>\n",
       "      <td>1137.000000</td>\n",
       "      <td>1137.000000</td>\n",
       "      <td>1137.000000</td>\n",
       "      <td>0.0</td>\n",
       "      <td>1137.000000</td>\n",
       "      <td>1137.000000</td>\n",
       "      <td>1137.000000</td>\n",
       "    </tr>\n",
       "    <tr>\n",
       "      <th>mean</th>\n",
       "      <td>0.958663</td>\n",
       "      <td>0.054529</td>\n",
       "      <td>3.825858</td>\n",
       "      <td>0.258575</td>\n",
       "      <td>NaN</td>\n",
       "      <td>1052.925004</td>\n",
       "      <td>1052.925004</td>\n",
       "      <td>9.259719</td>\n",
       "    </tr>\n",
       "    <tr>\n",
       "      <th>std</th>\n",
       "      <td>6.696979</td>\n",
       "      <td>0.398743</td>\n",
       "      <td>1.542108</td>\n",
       "      <td>0.579870</td>\n",
       "      <td>NaN</td>\n",
       "      <td>8570.480392</td>\n",
       "      <td>8570.480392</td>\n",
       "      <td>19.287112</td>\n",
       "    </tr>\n",
       "    <tr>\n",
       "      <th>min</th>\n",
       "      <td>0.000000</td>\n",
       "      <td>0.000000</td>\n",
       "      <td>1.000000</td>\n",
       "      <td>0.000000</td>\n",
       "      <td>NaN</td>\n",
       "      <td>7.950000</td>\n",
       "      <td>7.950000</td>\n",
       "      <td>1.020000</td>\n",
       "    </tr>\n",
       "    <tr>\n",
       "      <th>25%</th>\n",
       "      <td>0.000000</td>\n",
       "      <td>0.000000</td>\n",
       "      <td>3.000000</td>\n",
       "      <td>0.000000</td>\n",
       "      <td>NaN</td>\n",
       "      <td>8.400000</td>\n",
       "      <td>8.400000</td>\n",
       "      <td>2.000000</td>\n",
       "    </tr>\n",
       "    <tr>\n",
       "      <th>50%</th>\n",
       "      <td>0.000000</td>\n",
       "      <td>0.000000</td>\n",
       "      <td>5.000000</td>\n",
       "      <td>0.000000</td>\n",
       "      <td>NaN</td>\n",
       "      <td>10.770000</td>\n",
       "      <td>10.770000</td>\n",
       "      <td>2.000000</td>\n",
       "    </tr>\n",
       "    <tr>\n",
       "      <th>75%</th>\n",
       "      <td>0.000000</td>\n",
       "      <td>0.000000</td>\n",
       "      <td>5.000000</td>\n",
       "      <td>0.000000</td>\n",
       "      <td>NaN</td>\n",
       "      <td>78.000000</td>\n",
       "      <td>78.000000</td>\n",
       "      <td>9.900000</td>\n",
       "    </tr>\n",
       "    <tr>\n",
       "      <th>max</th>\n",
       "      <td>148.000000</td>\n",
       "      <td>6.000000</td>\n",
       "      <td>5.000000</td>\n",
       "      <td>6.000000</td>\n",
       "      <td>NaN</td>\n",
       "      <td>156000.000000</td>\n",
       "      <td>156000.000000</td>\n",
       "      <td>156.000000</td>\n",
       "    </tr>\n",
       "  </tbody>\n",
       "</table>\n",
       "</div>"
      ],
      "text/plain": [
       "       helpful_count   num_images       rating  num_comments  list_price  \\\n",
       "count    1137.000000  1137.000000  1137.000000   1137.000000         0.0   \n",
       "mean        0.958663     0.054529     3.825858      0.258575         NaN   \n",
       "std         6.696979     0.398743     1.542108      0.579870         NaN   \n",
       "min         0.000000     0.000000     1.000000      0.000000         NaN   \n",
       "25%         0.000000     0.000000     3.000000      0.000000         NaN   \n",
       "50%         0.000000     0.000000     5.000000      0.000000         NaN   \n",
       "75%         0.000000     0.000000     5.000000      0.000000         NaN   \n",
       "max       148.000000     6.000000     5.000000      6.000000         NaN   \n",
       "\n",
       "           price_low     price_high  lowest_price_new_condition  \n",
       "count    1137.000000    1137.000000                 1137.000000  \n",
       "mean     1052.925004    1052.925004                    9.259719  \n",
       "std      8570.480392    8570.480392                   19.287112  \n",
       "min         7.950000       7.950000                    1.020000  \n",
       "25%         8.400000       8.400000                    2.000000  \n",
       "50%        10.770000      10.770000                    2.000000  \n",
       "75%        78.000000      78.000000                    9.900000  \n",
       "max    156000.000000  156000.000000                  156.000000  "
      ]
     },
     "execution_count": 36,
     "metadata": {},
     "output_type": "execute_result"
    }
   ],
   "source": [
    "df[df[\"asin\"].isin(fake_sins)].describe()"
   ]
  },
  {
   "cell_type": "code",
   "execution_count": 37,
   "metadata": {},
   "outputs": [
    {
     "data": {
      "text/html": [
       "<div>\n",
       "<style scoped>\n",
       "    .dataframe tbody tr th:only-of-type {\n",
       "        vertical-align: middle;\n",
       "    }\n",
       "\n",
       "    .dataframe tbody tr th {\n",
       "        vertical-align: top;\n",
       "    }\n",
       "\n",
       "    .dataframe thead th {\n",
       "        text-align: right;\n",
       "    }\n",
       "</style>\n",
       "<table border=\"1\" class=\"dataframe\">\n",
       "  <thead>\n",
       "    <tr style=\"text-align: right;\">\n",
       "      <th></th>\n",
       "      <th>helpful_count</th>\n",
       "      <th>num_images</th>\n",
       "      <th>rating</th>\n",
       "      <th>num_comments</th>\n",
       "      <th>list_price</th>\n",
       "      <th>price_low</th>\n",
       "      <th>price_high</th>\n",
       "      <th>lowest_price_new_condition</th>\n",
       "    </tr>\n",
       "  </thead>\n",
       "  <tbody>\n",
       "    <tr>\n",
       "      <th>count</th>\n",
       "      <td>357932.000000</td>\n",
       "      <td>357932.000000</td>\n",
       "      <td>357932.000000</td>\n",
       "      <td>357932.000000</td>\n",
       "      <td>12131.000000</td>\n",
       "      <td>255246.000000</td>\n",
       "      <td>255246.000000</td>\n",
       "      <td>34912.000000</td>\n",
       "    </tr>\n",
       "    <tr>\n",
       "      <th>mean</th>\n",
       "      <td>0.635403</td>\n",
       "      <td>0.038625</td>\n",
       "      <td>4.247245</td>\n",
       "      <td>0.049174</td>\n",
       "      <td>24.717302</td>\n",
       "      <td>44.283637</td>\n",
       "      <td>44.283637</td>\n",
       "      <td>52.537690</td>\n",
       "    </tr>\n",
       "    <tr>\n",
       "      <th>std</th>\n",
       "      <td>6.890763</td>\n",
       "      <td>0.308083</td>\n",
       "      <td>1.248429</td>\n",
       "      <td>0.295239</td>\n",
       "      <td>20.770352</td>\n",
       "      <td>172.256309</td>\n",
       "      <td>172.256309</td>\n",
       "      <td>81.810976</td>\n",
       "    </tr>\n",
       "    <tr>\n",
       "      <th>min</th>\n",
       "      <td>0.000000</td>\n",
       "      <td>0.000000</td>\n",
       "      <td>1.000000</td>\n",
       "      <td>0.000000</td>\n",
       "      <td>6.960000</td>\n",
       "      <td>0.010000</td>\n",
       "      <td>0.010000</td>\n",
       "      <td>1.340000</td>\n",
       "    </tr>\n",
       "    <tr>\n",
       "      <th>25%</th>\n",
       "      <td>0.000000</td>\n",
       "      <td>0.000000</td>\n",
       "      <td>4.000000</td>\n",
       "      <td>0.000000</td>\n",
       "      <td>12.590000</td>\n",
       "      <td>21.850000</td>\n",
       "      <td>21.850000</td>\n",
       "      <td>15.690000</td>\n",
       "    </tr>\n",
       "    <tr>\n",
       "      <th>50%</th>\n",
       "      <td>0.000000</td>\n",
       "      <td>0.000000</td>\n",
       "      <td>5.000000</td>\n",
       "      <td>0.000000</td>\n",
       "      <td>18.920000</td>\n",
       "      <td>34.540000</td>\n",
       "      <td>34.540000</td>\n",
       "      <td>24.990000</td>\n",
       "    </tr>\n",
       "    <tr>\n",
       "      <th>75%</th>\n",
       "      <td>0.000000</td>\n",
       "      <td>0.000000</td>\n",
       "      <td>5.000000</td>\n",
       "      <td>0.000000</td>\n",
       "      <td>34.990000</td>\n",
       "      <td>48.950000</td>\n",
       "      <td>48.950000</td>\n",
       "      <td>39.950000</td>\n",
       "    </tr>\n",
       "    <tr>\n",
       "      <th>max</th>\n",
       "      <td>968.000000</td>\n",
       "      <td>20.000000</td>\n",
       "      <td>5.000000</td>\n",
       "      <td>39.000000</td>\n",
       "      <td>128.000000</td>\n",
       "      <td>66997.950000</td>\n",
       "      <td>66997.950000</td>\n",
       "      <td>999.990000</td>\n",
       "    </tr>\n",
       "  </tbody>\n",
       "</table>\n",
       "</div>"
      ],
      "text/plain": [
       "       helpful_count     num_images         rating   num_comments  \\\n",
       "count  357932.000000  357932.000000  357932.000000  357932.000000   \n",
       "mean        0.635403       0.038625       4.247245       0.049174   \n",
       "std         6.890763       0.308083       1.248429       0.295239   \n",
       "min         0.000000       0.000000       1.000000       0.000000   \n",
       "25%         0.000000       0.000000       4.000000       0.000000   \n",
       "50%         0.000000       0.000000       5.000000       0.000000   \n",
       "75%         0.000000       0.000000       5.000000       0.000000   \n",
       "max       968.000000      20.000000       5.000000      39.000000   \n",
       "\n",
       "         list_price      price_low     price_high  lowest_price_new_condition  \n",
       "count  12131.000000  255246.000000  255246.000000                34912.000000  \n",
       "mean      24.717302      44.283637      44.283637                   52.537690  \n",
       "std       20.770352     172.256309     172.256309                   81.810976  \n",
       "min        6.960000       0.010000       0.010000                    1.340000  \n",
       "25%       12.590000      21.850000      21.850000                   15.690000  \n",
       "50%       18.920000      34.540000      34.540000                   24.990000  \n",
       "75%       34.990000      48.950000      48.950000                   39.950000  \n",
       "max      128.000000   66997.950000   66997.950000                  999.990000  "
      ]
     },
     "execution_count": 37,
     "metadata": {},
     "output_type": "execute_result"
    }
   ],
   "source": [
    "df[~df[\"asin\"].isin(fake_sins)].describe()"
   ]
  },
  {
   "cell_type": "code",
   "execution_count": 68,
   "metadata": {},
   "outputs": [
    {
     "data": {
      "image/png": "[encoded data removed]",
      "text/plain": [
       "<Figure size 1152x576 with 1 Axes>"
      ]
     },
     "metadata": {
      "needs_background": "light"
     },
     "output_type": "display_data"
    }
   ],
   "source": [
    "# Below i will create a Bar graph of above two dataframes\n",
    "tdf = df.copy()\n",
    "#tdf = tdf.drop([\"price_low\"], axis=1)\n",
    "fake_means = tdf[tdf[\"asin\"].isin(fake_sins)].describe().values[1, :]\n",
    "non_fake_means = tdf[~tdf[\"asin\"].isin(fake_sins)].describe().values[1, :]\n",
    "N = len(fake_means)\n",
    "cols = tdf[~tdf[\"asin\"].isin(fake_sins)].describe().columns\n",
    "plt.figure(figsize=(16, 8))\n",
    "ind = np.arange(N) \n",
    "width = 0.35       \n",
    "plt.bar(ind, fake_means, width, label='Counterfeit')\n",
    "plt.bar(ind + width, non_fake_means, width,\n",
    "    label='Authentic')\n",
    "\n",
    "plt.ylabel('Statistic')\n",
    "plt.title('Mean Features across counterfeit vs authentic products')\n",
    "plt.yscale('log', basey=2)\n",
    "plt.xticks(ind + width / 2, cols, rotation=45)\n",
    "plt.legend(loc='best')\n",
    "plt.show()"
   ]
  },
  {
   "cell_type": "markdown",
   "metadata": {},
   "source": [
    "### Factors that increases the risk of becoming target of grey market sellers:\n",
    "    -Price: Higher the price of particular items, higher the risk that item will be targeted by grey marker sellers.\n",
    "    -Num_comments: Counterfeit items has received more number of comments than Authentic products\n",
    "                   - Positive feedback will attract more customers\n",
    "    -Ratings: Difference of rating amond Authentic and Counterfeit items is not much\n",
    "    -Helpful count: Counterfeit items has received more like on their comments"
   ]
  },
  {
   "cell_type": "markdown",
   "metadata": {},
   "source": [
    "### Q3 Factors affecting consumer decision\n",
    "To answer this i will you machine learning, XGboost's feature importance. Here i will use rating as dependent variable. As rating is the variable that describes how satisfied the customers, thus consumer(decision)"
   ]
  },
  {
   "cell_type": "code",
   "execution_count": 39,
   "metadata": {},
   "outputs": [
    {
     "data": {
      "text/html": [
       "<div>\n",
       "<style scoped>\n",
       "    .dataframe tbody tr th:only-of-type {\n",
       "        vertical-align: middle;\n",
       "    }\n",
       "\n",
       "    .dataframe tbody tr th {\n",
       "        vertical-align: top;\n",
       "    }\n",
       "\n",
       "    .dataframe thead th {\n",
       "        text-align: right;\n",
       "    }\n",
       "</style>\n",
       "<table border=\"1\" class=\"dataframe\">\n",
       "  <thead>\n",
       "    <tr style=\"text-align: right;\">\n",
       "      <th></th>\n",
       "      <th>asin</th>\n",
       "      <th>review_post_id</th>\n",
       "      <th>body</th>\n",
       "      <th>helpful_count</th>\n",
       "      <th>num_images</th>\n",
       "      <th>rating</th>\n",
       "      <th>date_posted</th>\n",
       "      <th>is_verified_purchase</th>\n",
       "      <th>is_vine_voice</th>\n",
       "      <th>num_comments</th>\n",
       "      <th>...</th>\n",
       "      <th>is_prime_pantry</th>\n",
       "      <th>is_prime_exclusive</th>\n",
       "      <th>is_fresh</th>\n",
       "      <th>has_sns</th>\n",
       "      <th>offer_fulfiller</th>\n",
       "      <th>offer_merchant</th>\n",
       "      <th>lowest_price_new_condition</th>\n",
       "      <th>brand</th>\n",
       "      <th>num_reviews</th>\n",
       "      <th>num_images_pdp</th>\n",
       "    </tr>\n",
       "  </thead>\n",
       "  <tbody>\n",
       "    <tr>\n",
       "      <th>706</th>\n",
       "      <td>B00SK72CZ6</td>\n",
       "      <td>RZN13B44MR5ME</td>\n",
       "      <td>As everyone else stated, it was supposed to be...</td>\n",
       "      <td>2</td>\n",
       "      <td>1</td>\n",
       "      <td>1</td>\n",
       "      <td>2017-08-11</td>\n",
       "      <td>True</td>\n",
       "      <td>False</td>\n",
       "      <td>0</td>\n",
       "      <td>...</td>\n",
       "      <td>False</td>\n",
       "      <td>False</td>\n",
       "      <td>False</td>\n",
       "      <td>True</td>\n",
       "      <td>Amazon.com</td>\n",
       "      <td>Amazon.com</td>\n",
       "      <td>18.92</td>\n",
       "      <td>Dove</td>\n",
       "      <td>3</td>\n",
       "      <td>15</td>\n",
       "    </tr>\n",
       "    <tr>\n",
       "      <th>707</th>\n",
       "      <td>B00SK72CZ6</td>\n",
       "      <td>RZLH0YP25FDFY</td>\n",
       "      <td>I have been using this product for years. Comp...</td>\n",
       "      <td>0</td>\n",
       "      <td>0</td>\n",
       "      <td>5</td>\n",
       "      <td>2017-04-19</td>\n",
       "      <td>True</td>\n",
       "      <td>False</td>\n",
       "      <td>0</td>\n",
       "      <td>...</td>\n",
       "      <td>False</td>\n",
       "      <td>False</td>\n",
       "      <td>False</td>\n",
       "      <td>True</td>\n",
       "      <td>Amazon.com</td>\n",
       "      <td>Amazon.com</td>\n",
       "      <td>18.92</td>\n",
       "      <td>Dove</td>\n",
       "      <td>3</td>\n",
       "      <td>15</td>\n",
       "    </tr>\n",
       "    <tr>\n",
       "      <th>709</th>\n",
       "      <td>B00SK72CZ6</td>\n",
       "      <td>RZD9W05E2L8MO</td>\n",
       "      <td>I like Dove products, but I do not like the sm...</td>\n",
       "      <td>0</td>\n",
       "      <td>0</td>\n",
       "      <td>3</td>\n",
       "      <td>2017-01-17</td>\n",
       "      <td>True</td>\n",
       "      <td>False</td>\n",
       "      <td>0</td>\n",
       "      <td>...</td>\n",
       "      <td>False</td>\n",
       "      <td>False</td>\n",
       "      <td>False</td>\n",
       "      <td>True</td>\n",
       "      <td>Amazon.com</td>\n",
       "      <td>Amazon.com</td>\n",
       "      <td>18.92</td>\n",
       "      <td>Dove</td>\n",
       "      <td>3</td>\n",
       "      <td>15</td>\n",
       "    </tr>\n",
       "    <tr>\n",
       "      <th>711</th>\n",
       "      <td>B00SK72CZ6</td>\n",
       "      <td>RZ6ANKA9EXG5V</td>\n",
       "      <td>I was really hoping for a body wash that would...</td>\n",
       "      <td>0</td>\n",
       "      <td>0</td>\n",
       "      <td>2</td>\n",
       "      <td>2016-12-09</td>\n",
       "      <td>True</td>\n",
       "      <td>False</td>\n",
       "      <td>1</td>\n",
       "      <td>...</td>\n",
       "      <td>False</td>\n",
       "      <td>False</td>\n",
       "      <td>False</td>\n",
       "      <td>True</td>\n",
       "      <td>Amazon.com</td>\n",
       "      <td>Amazon.com</td>\n",
       "      <td>18.92</td>\n",
       "      <td>Dove</td>\n",
       "      <td>3</td>\n",
       "      <td>15</td>\n",
       "    </tr>\n",
       "    <tr>\n",
       "      <th>712</th>\n",
       "      <td>B00SK72CZ6</td>\n",
       "      <td>RZ2NV4HK1YLOR</td>\n",
       "      <td>Good product for older skin.</td>\n",
       "      <td>0</td>\n",
       "      <td>0</td>\n",
       "      <td>5</td>\n",
       "      <td>2016-12-15</td>\n",
       "      <td>True</td>\n",
       "      <td>False</td>\n",
       "      <td>0</td>\n",
       "      <td>...</td>\n",
       "      <td>False</td>\n",
       "      <td>False</td>\n",
       "      <td>False</td>\n",
       "      <td>True</td>\n",
       "      <td>Amazon.com</td>\n",
       "      <td>Amazon.com</td>\n",
       "      <td>18.92</td>\n",
       "      <td>Dove</td>\n",
       "      <td>3</td>\n",
       "      <td>15</td>\n",
       "    </tr>\n",
       "  </tbody>\n",
       "</table>\n",
       "<p>5 rows × 27 columns</p>\n",
       "</div>"
      ],
      "text/plain": [
       "           asin review_post_id  \\\n",
       "706  B00SK72CZ6  RZN13B44MR5ME   \n",
       "707  B00SK72CZ6  RZLH0YP25FDFY   \n",
       "709  B00SK72CZ6  RZD9W05E2L8MO   \n",
       "711  B00SK72CZ6  RZ6ANKA9EXG5V   \n",
       "712  B00SK72CZ6  RZ2NV4HK1YLOR   \n",
       "\n",
       "                                                  body  helpful_count  \\\n",
       "706  As everyone else stated, it was supposed to be...              2   \n",
       "707  I have been using this product for years. Comp...              0   \n",
       "709  I like Dove products, but I do not like the sm...              0   \n",
       "711  I was really hoping for a body wash that would...              0   \n",
       "712                       Good product for older skin.              0   \n",
       "\n",
       "     num_images  rating date_posted  is_verified_purchase  is_vine_voice  \\\n",
       "706           1       1  2017-08-11                  True          False   \n",
       "707           0       5  2017-04-19                  True          False   \n",
       "709           0       3  2017-01-17                  True          False   \n",
       "711           0       2  2016-12-09                  True          False   \n",
       "712           0       5  2016-12-15                  True          False   \n",
       "\n",
       "     num_comments      ...        is_prime_pantry is_prime_exclusive  \\\n",
       "706             0      ...                  False              False   \n",
       "707             0      ...                  False              False   \n",
       "709             0      ...                  False              False   \n",
       "711             1      ...                  False              False   \n",
       "712             0      ...                  False              False   \n",
       "\n",
       "     is_fresh  has_sns  offer_fulfiller offer_merchant  \\\n",
       "706     False     True       Amazon.com     Amazon.com   \n",
       "707     False     True       Amazon.com     Amazon.com   \n",
       "709     False     True       Amazon.com     Amazon.com   \n",
       "711     False     True       Amazon.com     Amazon.com   \n",
       "712     False     True       Amazon.com     Amazon.com   \n",
       "\n",
       "    lowest_price_new_condition brand num_reviews num_images_pdp  \n",
       "706                      18.92  Dove           3             15  \n",
       "707                      18.92  Dove           3             15  \n",
       "709                      18.92  Dove           3             15  \n",
       "711                      18.92  Dove           3             15  \n",
       "712                      18.92  Dove           3             15  \n",
       "\n",
       "[5 rows x 27 columns]"
      ]
     },
     "execution_count": 39,
     "metadata": {},
     "output_type": "execute_result"
    }
   ],
   "source": [
    "train = df.dropna()\n",
    "train.head()"
   ]
  },
  {
   "cell_type": "code",
   "execution_count": 69,
   "metadata": {},
   "outputs": [],
   "source": [
    "# Encoding Categorial features\n",
    "encoding_reqd = [\"is_verified_purchase\", \"is_vine_voice\",\n",
    "                'is_add_on', 'is_prime', 'is_prime_pantry', 'is_prime_exclusive', 'is_fresh']\n",
    "for x in encoding_reqd:\n",
    "    train[x] = LabelEncoder().fit_transform(train[x])"
   ]
  },
  {
   "cell_type": "code",
   "execution_count": 70,
   "metadata": {
    "scrolled": true
   },
   "outputs": [
    {
     "data": {
      "text/html": [
       "<div>\n",
       "<style scoped>\n",
       "    .dataframe tbody tr th:only-of-type {\n",
       "        vertical-align: middle;\n",
       "    }\n",
       "\n",
       "    .dataframe tbody tr th {\n",
       "        vertical-align: top;\n",
       "    }\n",
       "\n",
       "    .dataframe thead th {\n",
       "        text-align: right;\n",
       "    }\n",
       "</style>\n",
       "<table border=\"1\" class=\"dataframe\">\n",
       "  <thead>\n",
       "    <tr style=\"text-align: right;\">\n",
       "      <th></th>\n",
       "      <th>helpful_count</th>\n",
       "      <th>num_images</th>\n",
       "      <th>rating</th>\n",
       "      <th>num_comments</th>\n",
       "      <th>list_price</th>\n",
       "      <th>price_low</th>\n",
       "      <th>lowest_price_new_condition</th>\n",
       "      <th>is_verified_purchase</th>\n",
       "      <th>is_vine_voice</th>\n",
       "      <th>is_add_on</th>\n",
       "      <th>is_prime</th>\n",
       "      <th>is_prime_pantry</th>\n",
       "      <th>is_prime_exclusive</th>\n",
       "      <th>is_fresh</th>\n",
       "    </tr>\n",
       "  </thead>\n",
       "  <tbody>\n",
       "    <tr>\n",
       "      <th>706</th>\n",
       "      <td>2</td>\n",
       "      <td>1</td>\n",
       "      <td>1</td>\n",
       "      <td>0</td>\n",
       "      <td>18.92</td>\n",
       "      <td>17.97</td>\n",
       "      <td>18.92</td>\n",
       "      <td>1</td>\n",
       "      <td>0</td>\n",
       "      <td>0</td>\n",
       "      <td>1</td>\n",
       "      <td>0</td>\n",
       "      <td>0</td>\n",
       "      <td>0</td>\n",
       "    </tr>\n",
       "    <tr>\n",
       "      <th>707</th>\n",
       "      <td>0</td>\n",
       "      <td>0</td>\n",
       "      <td>5</td>\n",
       "      <td>0</td>\n",
       "      <td>18.92</td>\n",
       "      <td>17.97</td>\n",
       "      <td>18.92</td>\n",
       "      <td>1</td>\n",
       "      <td>0</td>\n",
       "      <td>0</td>\n",
       "      <td>1</td>\n",
       "      <td>0</td>\n",
       "      <td>0</td>\n",
       "      <td>0</td>\n",
       "    </tr>\n",
       "    <tr>\n",
       "      <th>709</th>\n",
       "      <td>0</td>\n",
       "      <td>0</td>\n",
       "      <td>3</td>\n",
       "      <td>0</td>\n",
       "      <td>18.92</td>\n",
       "      <td>17.97</td>\n",
       "      <td>18.92</td>\n",
       "      <td>1</td>\n",
       "      <td>0</td>\n",
       "      <td>0</td>\n",
       "      <td>1</td>\n",
       "      <td>0</td>\n",
       "      <td>0</td>\n",
       "      <td>0</td>\n",
       "    </tr>\n",
       "  </tbody>\n",
       "</table>\n",
       "</div>"
      ],
      "text/plain": [
       "     helpful_count  num_images  rating  num_comments  list_price  price_low  \\\n",
       "706              2           1       1             0       18.92      17.97   \n",
       "707              0           0       5             0       18.92      17.97   \n",
       "709              0           0       3             0       18.92      17.97   \n",
       "\n",
       "     lowest_price_new_condition  is_verified_purchase  is_vine_voice  \\\n",
       "706                       18.92                     1              0   \n",
       "707                       18.92                     1              0   \n",
       "709                       18.92                     1              0   \n",
       "\n",
       "     is_add_on  is_prime  is_prime_pantry  is_prime_exclusive  is_fresh  \n",
       "706          0         1                0                   0         0  \n",
       "707          0         1                0                   0         0  \n",
       "709          0         1                0                   0         0  "
      ]
     },
     "execution_count": 70,
     "metadata": {},
     "output_type": "execute_result"
    }
   ],
   "source": [
    "cols = [\"helpful_count\", \"num_images\", \"rating\", \"num_comments\", \"list_price\",\n",
    "        \"price_low\", \"lowest_price_new_condition\"] + encoding_reqd\n",
    "train = train[cols]\n",
    "train.head(3)"
   ]
  },
  {
   "cell_type": "code",
   "execution_count": 173,
   "metadata": {},
   "outputs": [
    {
     "data": {
      "text/plain": [
       "XGBRegressor(base_score=0.5, booster='gbtree', colsample_bylevel=1,\n",
       "       colsample_bytree=1, gamma=0, learning_rate=0.1, max_delta_step=0,\n",
       "       max_depth=3, min_child_weight=1, missing=None, n_estimators=100,\n",
       "       n_jobs=1, nthread=None, objective='reg:linear', random_state=0,\n",
       "       reg_alpha=0, reg_lambda=1, scale_pos_weight=1, seed=None,\n",
       "       silent=True, subsample=1)"
      ]
     },
     "execution_count": 173,
     "metadata": {},
     "output_type": "execute_result"
    }
   ],
   "source": [
    "# importing Xgboost\n",
    "from xgboost import XGBRegressor\n",
    "\n",
    "model = XGBRegressor()\n",
    "model.fit(train.drop(\"rating\", axis=1), train[\"rating\"])"
   ]
  },
  {
   "cell_type": "code",
   "execution_count": 174,
   "metadata": {},
   "outputs": [],
   "source": [
    "importances = list(zip(model.feature_importances_, train.drop(\"rating\", axis=1).columns.tolist()))\n",
    "importances.sort(key=lambda x: x[0], reverse=True)"
   ]
  },
  {
   "cell_type": "code",
   "execution_count": 212,
   "metadata": {
    "scrolled": false
   },
   "outputs": [
    {
     "data": {
      "image/png": "[encoded data removed]",
      "text/plain": [
       "<Figure size 1152x432 with 1 Axes>"
      ]
     },
     "metadata": {},
     "output_type": "display_data"
    }
   ],
   "source": [
    "plt.figure(figsize=(16, 6))\n",
    "plt.bar([x[1] for x in importances], [x[0] for x in importances], label=\"Importance\")\n",
    "plt.title(\"Factors affecting the rating\")\n",
    "plt.legend()\n",
    "plt.xlabel(\"Features\")\n",
    "plt.ylabel(\"Importance\")\n",
    "plt.xticks(rotation=45);"
   ]
  },
  {
   "cell_type": "markdown",
   "metadata": {},
   "source": [
    "Above bar graph shows important factors that affect consumers decision. Helpful_count, list_price_ comments, images in the description, all affect consumers decision. Product with most number reviews, rating helpfulcount is more likely to sell."
   ]
  },
  {
   "cell_type": "markdown",
   "metadata": {},
   "source": [
    "### Q4 how does above Trends between different product categories\n",
    "looking at the figure in Q2 tells us certain categories are more susceptible to gray marketing than others.\n",
    "-Here i will use NLP TextBlob to look at the comments, and i will create a graph of consumers sentiment among different categories. \n",
    "-And i will use the same XGboost technique i used above to answer question 3 but this time on two different categories, and will see if consumers differs in product categories"
   ]
  },
  {
   "cell_type": "code",
   "execution_count": 215,
   "metadata": {},
   "outputs": [
    {
     "name": "stdout",
     "output_type": "stream",
     "text": [
      "359069/359069\r"
     ]
    }
   ],
   "source": [
    "from textblob import TextBlob\n",
    "\n",
    "ctr = 0\n",
    "def get_sentiment(text):\n",
    "    global ctr\n",
    "    ctr += 1\n",
    "    print(\"{}/{}\\r\".format(ctr, len(df)), end=\"\")\n",
    "    return TextBlob(text).sentiment[0]\n",
    "\n",
    "df[\"sentiment\"] = df[\"body\"].apply(str).apply(get_sentiment)"
   ]
  },
  {
   "cell_type": "code",
   "execution_count": 222,
   "metadata": {},
   "outputs": [],
   "source": [
    "stats = {}\n",
    "for x in df[\"category\"].unique():\n",
    "    sent = df[df[\"category\"] == x][\"sentiment\"]\n",
    "    pos = len(sent[sent > 0.5])\n",
    "    neg = len(sent[sent < -0.5])\n",
    "    stats[x] = {\"pos\": pos, \"neg\": neg}"
   ]
  },
  {
   "cell_type": "code",
   "execution_count": 223,
   "metadata": {},
   "outputs": [
    {
     "data": {
      "text/plain": [
       "{\"Women's Shoes\": {'pos': 17031, 'neg': 287},\n",
       " 'Hair Care': {'pos': 1975, 'neg': 77},\n",
       " 'MakeUp': {'pos': 6591, 'neg': 301},\n",
       " 'SkinCare': {'pos': 20805, 'neg': 612},\n",
       " \"Men's Clothing\": {'pos': 12268, 'neg': 223},\n",
       " 'Headphones': {'pos': 2101, 'neg': 79},\n",
       " \"Men's Watches\": {'pos': 1413, 'neg': 30},\n",
       " \"Women's Watches\": {'pos': 526, 'neg': 11},\n",
       " \"Women's Handbags\": {'pos': 595, 'neg': 17},\n",
       " \"Women's Clothing\": {'pos': 5157, 'neg': 107},\n",
       " \"Men's Shoes\": {'pos': 27111, 'neg': 379}}"
      ]
     },
     "execution_count": 223,
     "metadata": {},
     "output_type": "execute_result"
    }
   ],
   "source": [
    "stats"
   ]
  },
  {
   "cell_type": "code",
   "execution_count": 283,
   "metadata": {},
   "outputs": [
    {
     "data": {
      "image/png": "[encoded data removed]",
      "text/plain": [
       "<Figure size 1152x576 with 1 Axes>"
      ]
     },
     "metadata": {},
     "output_type": "display_data"
    }
   ],
   "source": [
    "pos = [stats[x][\"pos\"] for x in stats]\n",
    "neg = [stats[x][\"neg\"] for x in stats]\n",
    "N = len(pos)\n",
    "plt.figure(figsize=(16, 8))\n",
    "ind = np.arange(N) \n",
    "width = 0.35       \n",
    "plt.bar(ind, pos, width, label='Positive')\n",
    "plt.bar(ind + width, neg, width,\n",
    "    label='Negative')\n",
    "\n",
    "plt.ylabel('Sentiment')\n",
    "plt.title('Sentiment across different categories')\n",
    "plt.yscale('log', basey=2)\n",
    "plt.xticks(ind + width / 2, stats.keys(), rotation=45)\n",
    "plt.legend(loc='best')\n",
    "plt.show()"
   ]
  },
  {
   "cell_type": "code",
   "execution_count": 255,
   "metadata": {},
   "outputs": [
    {
     "data": {
      "text/html": [
       "<div>\n",
       "<style scoped>\n",
       "    .dataframe tbody tr th:only-of-type {\n",
       "        vertical-align: middle;\n",
       "    }\n",
       "\n",
       "    .dataframe tbody tr th {\n",
       "        vertical-align: top;\n",
       "    }\n",
       "\n",
       "    .dataframe thead th {\n",
       "        text-align: right;\n",
       "    }\n",
       "</style>\n",
       "<table border=\"1\" class=\"dataframe\">\n",
       "  <thead>\n",
       "    <tr style=\"text-align: right;\">\n",
       "      <th></th>\n",
       "      <th>Feature</th>\n",
       "      <th>Missing Value Percent</th>\n",
       "    </tr>\n",
       "  </thead>\n",
       "  <tbody>\n",
       "    <tr>\n",
       "      <th>0</th>\n",
       "      <td>list_price</td>\n",
       "      <td>0.966215</td>\n",
       "    </tr>\n",
       "    <tr>\n",
       "      <th>1</th>\n",
       "      <td>price_low</td>\n",
       "      <td>0.285978</td>\n",
       "    </tr>\n",
       "    <tr>\n",
       "      <th>2</th>\n",
       "      <td>price_high</td>\n",
       "      <td>0.285978</td>\n",
       "    </tr>\n",
       "    <tr>\n",
       "      <th>3</th>\n",
       "      <td>is_add_on</td>\n",
       "      <td>0.226578</td>\n",
       "    </tr>\n",
       "    <tr>\n",
       "      <th>4</th>\n",
       "      <td>is_prime</td>\n",
       "      <td>0.226578</td>\n",
       "    </tr>\n",
       "    <tr>\n",
       "      <th>5</th>\n",
       "      <td>is_prime_pantry</td>\n",
       "      <td>0.226578</td>\n",
       "    </tr>\n",
       "    <tr>\n",
       "      <th>6</th>\n",
       "      <td>is_prime_exclusive</td>\n",
       "      <td>0.226578</td>\n",
       "    </tr>\n",
       "    <tr>\n",
       "      <th>7</th>\n",
       "      <td>is_fresh</td>\n",
       "      <td>0.226578</td>\n",
       "    </tr>\n",
       "    <tr>\n",
       "      <th>8</th>\n",
       "      <td>has_sns</td>\n",
       "      <td>0.226578</td>\n",
       "    </tr>\n",
       "    <tr>\n",
       "      <th>9</th>\n",
       "      <td>offer_fulfiller</td>\n",
       "      <td>0.862492</td>\n",
       "    </tr>\n",
       "    <tr>\n",
       "      <th>10</th>\n",
       "      <td>offer_merchant</td>\n",
       "      <td>0.862492</td>\n",
       "    </tr>\n",
       "    <tr>\n",
       "      <th>11</th>\n",
       "      <td>lowest_price_new_condition</td>\n",
       "      <td>0.899604</td>\n",
       "    </tr>\n",
       "  </tbody>\n",
       "</table>\n",
       "</div>"
      ],
      "text/plain": [
       "                       Feature  Missing Value Percent\n",
       "0                   list_price               0.966215\n",
       "1                    price_low               0.285978\n",
       "2                   price_high               0.285978\n",
       "3                    is_add_on               0.226578\n",
       "4                     is_prime               0.226578\n",
       "5              is_prime_pantry               0.226578\n",
       "6           is_prime_exclusive               0.226578\n",
       "7                     is_fresh               0.226578\n",
       "8                      has_sns               0.226578\n",
       "9              offer_fulfiller               0.862492\n",
       "10              offer_merchant               0.862492\n",
       "11  lowest_price_new_condition               0.899604"
      ]
     },
     "execution_count": 255,
     "metadata": {},
     "output_type": "execute_result"
    }
   ],
   "source": [
    "missing_vals = df.isna().sum()/len(df)\n",
    "info = pd.DataFrame(missing_vals[missing_vals > 0.1])\n",
    "info.reset_index(inplace=True)\n",
    "info.columns = [\"Feature\", \"Missing Value Percent\"]\n",
    "info"
   ]
  },
  {
   "cell_type": "code",
   "execution_count": 256,
   "metadata": {},
   "outputs": [
    {
     "data": {
      "text/plain": [
       "<matplotlib.axes._subplots.AxesSubplot at 0x2239acc25f8>"
      ]
     },
     "execution_count": 256,
     "metadata": {},
     "output_type": "execute_result"
    },
    {
     "data": {
      "image/png": "[encoded data removed]",
      "text/plain": [
       "<Figure size 432x288 with 2 Axes>"
      ]
     },
     "metadata": {},
     "output_type": "display_data"
    }
   ],
   "source": [
    "import seaborn as sns\n",
    "\n",
    "sns.heatmap(df.corr())"
   ]
  },
  {
   "cell_type": "code",
   "execution_count": 42,
   "metadata": {},
   "outputs": [
    {
     "data": {
      "text/plain": [
       "MakeUp       3382\n",
       "Hair Care    1862\n",
       "SkinCare     1851\n",
       "Name: category, dtype: int64"
      ]
     },
     "execution_count": 42,
     "metadata": {},
     "output_type": "execute_result"
    }
   ],
   "source": [
    "notnull = df.dropna()\n",
    "notnull[\"category\"].value_counts()"
   ]
  },
  {
   "cell_type": "code",
   "execution_count": 43,
   "metadata": {},
   "outputs": [
    {
     "name": "stdout",
     "output_type": "stream",
     "text": [
      "(3382, 27)\n",
      "(1851, 27)\n"
     ]
    }
   ],
   "source": [
    "train_makeup = notnull[notnull[\"category\"] == \"MakeUp\"]\n",
    "train_skin = notnull[notnull[\"category\"] == \"SkinCare\"]\n",
    "\n",
    "print(train_makeup.shape)\n",
    "print(train_skin.shape)"
   ]
  },
  {
   "cell_type": "code",
   "execution_count": 44,
   "metadata": {},
   "outputs": [
    {
     "name": "stderr",
     "output_type": "stream",
     "text": [
      "/Users/lucky/anaconda3/lib/python3.7/site-packages/ipykernel_launcher.py:4: SettingWithCopyWarning: \n",
      "A value is trying to be set on a copy of a slice from a DataFrame.\n",
      "Try using .loc[row_indexer,col_indexer] = value instead\n",
      "\n",
      "See the caveats in the documentation: http://pandas.pydata.org/pandas-docs/stable/indexing.html#indexing-view-versus-copy\n",
      "  after removing the cwd from sys.path.\n",
      "/Users/lucky/anaconda3/lib/python3.7/site-packages/ipykernel_launcher.py:5: SettingWithCopyWarning: \n",
      "A value is trying to be set on a copy of a slice from a DataFrame.\n",
      "Try using .loc[row_indexer,col_indexer] = value instead\n",
      "\n",
      "See the caveats in the documentation: http://pandas.pydata.org/pandas-docs/stable/indexing.html#indexing-view-versus-copy\n",
      "  \"\"\"\n"
     ]
    }
   ],
   "source": [
    "encoding_reqd = [\"is_verified_purchase\", \"is_vine_voice\",\n",
    "                'is_add_on', 'is_prime', 'is_prime_pantry', 'is_prime_exclusive', 'is_fresh']\n",
    "for x in encoding_reqd:\n",
    "    train_makeup[x] = LabelEncoder().fit_transform(train_makeup[x])\n",
    "    train_skin[x] = LabelEncoder().fit_transform(train_skin[x])"
   ]
  },
  {
   "cell_type": "code",
   "execution_count": 282,
   "metadata": {},
   "outputs": [],
   "source": [
    "train_skin = train_skin[cols]\n",
    "train_makeup = train_makeup[cols]"
   ]
  },
  {
   "cell_type": "code",
   "execution_count": 284,
   "metadata": {},
   "outputs": [
    {
     "data": {
      "text/plain": [
       "XGBRegressor(base_score=0.5, booster='gbtree', colsample_bylevel=1,\n",
       "       colsample_bytree=1, gamma=0, learning_rate=0.1, max_delta_step=0,\n",
       "       max_depth=3, min_child_weight=1, missing=None, n_estimators=100,\n",
       "       n_jobs=1, nthread=None, objective='reg:linear', random_state=0,\n",
       "       reg_alpha=0, reg_lambda=1, scale_pos_weight=1, seed=None,\n",
       "       silent=True, subsample=1)"
      ]
     },
     "execution_count": 284,
     "metadata": {},
     "output_type": "execute_result"
    }
   ],
   "source": [
    "model1 = XGBRegressor()\n",
    "model1.fit(train_skin.drop(\"rating\", axis=1), train_skin[\"rating\"])\n",
    "\n",
    "model2 = XGBRegressor()\n",
    "model2.fit(train_makeup.drop(\"rating\", axis=1), train_makeup[\"rating\"])"
   ]
  },
  {
   "cell_type": "code",
   "execution_count": 285,
   "metadata": {},
   "outputs": [],
   "source": [
    "importances1 = list(zip(model1.feature_importances_, train_skin.drop(\"rating\", axis=1).columns.tolist()))\n",
    "importances1.sort(key=lambda x: x[0], reverse=True)\n",
    "\n",
    "importances2 = list(zip(model1.feature_importances_, train_makeup.drop(\"rating\", axis=1).columns.tolist()))\n",
    "importances2.sort(key=lambda x: x[0], reverse=True)\n",
    "\n"
   ]
  },
  {
   "cell_type": "code",
   "execution_count": 286,
   "metadata": {},
   "outputs": [
    {
     "data": {
      "image/png": "[encoded data removed]",
      "text/plain": [
       "<Figure size 1152x432 with 1 Axes>"
      ]
     },
     "metadata": {},
     "output_type": "display_data"
    }
   ],
   "source": [
    "plt.figure(figsize=(16, 6))\n",
    "plt.bar([x[1] for x in importances1], [x[0] for x in importances1], label=\"Importance\")\n",
    "plt.title(\"Factors affecting the rating in Skin Care\")\n",
    "plt.legend()\n",
    "plt.xlabel(\"Features\")\n",
    "plt.ylabel(\"Importance\")\n",
    "plt.xticks(rotation=45);"
   ]
  },
  {
   "cell_type": "code",
   "execution_count": 287,
   "metadata": {},
   "outputs": [
    {
     "data": {
      "image/png": "[encoded data removed]",
      "text/plain": [
       "<Figure size 1152x432 with 1 Axes>"
      ]
     },
     "metadata": {},
     "output_type": "display_data"
    }
   ],
   "source": [
    "plt.figure(figsize=(16, 6))\n",
    "plt.bar([x[1] for x in importances2], [x[0] for x in importances2], label=\"Importance\")\n",
    "plt.title(\"Factors affecting the rating in Make Up\")\n",
    "plt.legend()\n",
    "plt.xlabel(\"Features\")\n",
    "plt.ylabel(\"Importance\")\n",
    "plt.xticks(rotation=45);"
   ]
  },
  {
   "cell_type": "markdown",
   "metadata": {},
   "source": [
    "-Skin case, Men's shoes are their category with most number of negative reviews. <br>\n",
    "-Consumer decision among two categories above don't differ much"
   ]
  },
  {
   "cell_type": "code",
   "execution_count": null,
   "metadata": {},
   "outputs": [],
   "source": []
  }
 ],
 "metadata": {
  "kernelspec": {
   "display_name": "Python 3",
   "language": "python",
   "name": "python3"
  },
  "language_info": {
   "codemirror_mode": {
    "name": "ipython",
    "version": 3
   },
   "file_extension": ".py",
   "mimetype": "text/x-python",
   "name": "python",
   "nbconvert_exporter": "python",
   "pygments_lexer": "ipython3",
   "version": "3.7.1"
  }
 },
 "nbformat": 4,
 "nbformat_minor": 2
}
